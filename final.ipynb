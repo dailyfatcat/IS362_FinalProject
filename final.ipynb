{
 "cells": [
  {
   "cell_type": "code",
   "execution_count": 195,
   "metadata": {
    "collapsed": true,
    "pycharm": {
     "name": "#%%\n"
    }
   },
   "outputs": [],
   "source": [
    "#import statements\n",
    "import pandas as pd\n",
    "from bs4 import BeautifulSoup\n",
    "import urllib3"
   ]
  },
  {
   "cell_type": "markdown",
   "source": [
    "Motivation for Performing The Analysis\n",
    "=====================================\n",
    "I'm looking to analyze the Android market determine what are the most popular types of apps,\n",
    "looking at the different categories of apps and how they rank,\n",
    "and what applications and types are users rating the highest\n",
    "#### Main Data Source:\n",
    "[Kaggle - Google Play Store Apps](#https://www.kaggle.com/lava18/google-play-store-apps)\n",
    "Data has been included in this Github Repository for reference.\n",
    "Data is read in and tidied in this section."
   ],
   "metadata": {
    "collapsed": false,
    "pycharm": {
     "name": "#%% md\n"
    }
   }
  },
  {
   "cell_type": "code",
   "execution_count": 196,
   "outputs": [],
   "source": [
    "googlereviews = pd.read_csv('googleplaystore.csv')\n",
    "googlesent = pd.read_csv('googleplaystore_user_reviews.csv')\n",
    "\n",
    "#Tidying data, drop empty values\n",
    "googlereviews.dropna(inplace=True)\n",
    "googlesent.dropna(inplace=True)\n",
    "\n",
    "#Tidying data, drop unneeded columns, convert columns to INT\n",
    "googlereviews.drop(columns=['Android Ver', 'Current Ver', 'Size'])\n",
    "googlereviews['Installs'] = googlereviews['Installs'].str.replace('+', '')\n",
    "googlereviews['Installs'] = googlereviews['Installs'].str.replace(\",\",\"\")\n",
    "googlereviews['Installs'] = pd.to_numeric(googlereviews['Installs'])\n",
    "googlereviews['Rating'] = pd.to_numeric(googlereviews['Rating'])\n",
    "googlereviews['Reviews'] = pd.to_numeric(googlereviews['Reviews'])"
   ],
   "metadata": {
    "collapsed": false,
    "pycharm": {
     "name": "#%%\n"
    }
   }
  },
  {
   "cell_type": "markdown",
   "source": [
    "Here is the data after it has been tidied up"
   ],
   "metadata": {
    "collapsed": false,
    "pycharm": {
     "name": "#%% md\n"
    }
   }
  },
  {
   "cell_type": "code",
   "execution_count": 197,
   "outputs": [
    {
     "data": {
      "text/plain": "                     App                                  Translated_Review  \\\n0  10 Best Foods for You  I like eat delicious food. That's I'm cooking ...   \n1  10 Best Foods for You    This help eating healthy exercise regular basis   \n3  10 Best Foods for You         Works great especially going grocery store   \n4  10 Best Foods for You                                       Best idea us   \n5  10 Best Foods for You                                           Best way   \n\n  Sentiment  Sentiment_Polarity  Sentiment_Subjectivity  \n0  Positive                1.00                0.533333  \n1  Positive                0.25                0.288462  \n3  Positive                0.40                0.875000  \n4  Positive                1.00                0.300000  \n5  Positive                1.00                0.300000  ",
      "text/html": "<div>\n<style scoped>\n    .dataframe tbody tr th:only-of-type {\n        vertical-align: middle;\n    }\n\n    .dataframe tbody tr th {\n        vertical-align: top;\n    }\n\n    .dataframe thead th {\n        text-align: right;\n    }\n</style>\n<table border=\"1\" class=\"dataframe\">\n  <thead>\n    <tr style=\"text-align: right;\">\n      <th></th>\n      <th>App</th>\n      <th>Translated_Review</th>\n      <th>Sentiment</th>\n      <th>Sentiment_Polarity</th>\n      <th>Sentiment_Subjectivity</th>\n    </tr>\n  </thead>\n  <tbody>\n    <tr>\n      <th>0</th>\n      <td>10 Best Foods for You</td>\n      <td>I like eat delicious food. That's I'm cooking ...</td>\n      <td>Positive</td>\n      <td>1.00</td>\n      <td>0.533333</td>\n    </tr>\n    <tr>\n      <th>1</th>\n      <td>10 Best Foods for You</td>\n      <td>This help eating healthy exercise regular basis</td>\n      <td>Positive</td>\n      <td>0.25</td>\n      <td>0.288462</td>\n    </tr>\n    <tr>\n      <th>3</th>\n      <td>10 Best Foods for You</td>\n      <td>Works great especially going grocery store</td>\n      <td>Positive</td>\n      <td>0.40</td>\n      <td>0.875000</td>\n    </tr>\n    <tr>\n      <th>4</th>\n      <td>10 Best Foods for You</td>\n      <td>Best idea us</td>\n      <td>Positive</td>\n      <td>1.00</td>\n      <td>0.300000</td>\n    </tr>\n    <tr>\n      <th>5</th>\n      <td>10 Best Foods for You</td>\n      <td>Best way</td>\n      <td>Positive</td>\n      <td>1.00</td>\n      <td>0.300000</td>\n    </tr>\n  </tbody>\n</table>\n</div>"
     },
     "execution_count": 197,
     "metadata": {},
     "output_type": "execute_result"
    }
   ],
   "source": [
    "googlesent.head()\n"
   ],
   "metadata": {
    "collapsed": false,
    "pycharm": {
     "name": "#%%\n"
    }
   }
  },
  {
   "cell_type": "code",
   "execution_count": 198,
   "outputs": [
    {
     "data": {
      "text/plain": "                                                 App        Category  Rating  \\\n0     Photo Editor & Candy Camera & Grid & ScrapBook  ART_AND_DESIGN     4.1   \n1                                Coloring book moana  ART_AND_DESIGN     3.9   \n2  U Launcher Lite – FREE Live Cool Themes, Hide ...  ART_AND_DESIGN     4.7   \n3                              Sketch - Draw & Paint  ART_AND_DESIGN     4.5   \n4              Pixel Draw - Number Art Coloring Book  ART_AND_DESIGN     4.3   \n\n   Reviews  Size  Installs  Type Price Content Rating  \\\n0      159   19M     10000  Free     0       Everyone   \n1      967   14M    500000  Free     0       Everyone   \n2    87510  8.7M   5000000  Free     0       Everyone   \n3   215644   25M  50000000  Free     0           Teen   \n4      967  2.8M    100000  Free     0       Everyone   \n\n                      Genres      Last Updated         Current Ver  \\\n0               Art & Design   January 7, 2018               1.0.0   \n1  Art & Design;Pretend Play  January 15, 2018               2.0.0   \n2               Art & Design    August 1, 2018               1.2.4   \n3               Art & Design      June 8, 2018  Varies with device   \n4    Art & Design;Creativity     June 20, 2018                 1.1   \n\n    Android Ver  \n0  4.0.3 and up  \n1  4.0.3 and up  \n2  4.0.3 and up  \n3    4.2 and up  \n4    4.4 and up  ",
      "text/html": "<div>\n<style scoped>\n    .dataframe tbody tr th:only-of-type {\n        vertical-align: middle;\n    }\n\n    .dataframe tbody tr th {\n        vertical-align: top;\n    }\n\n    .dataframe thead th {\n        text-align: right;\n    }\n</style>\n<table border=\"1\" class=\"dataframe\">\n  <thead>\n    <tr style=\"text-align: right;\">\n      <th></th>\n      <th>App</th>\n      <th>Category</th>\n      <th>Rating</th>\n      <th>Reviews</th>\n      <th>Size</th>\n      <th>Installs</th>\n      <th>Type</th>\n      <th>Price</th>\n      <th>Content Rating</th>\n      <th>Genres</th>\n      <th>Last Updated</th>\n      <th>Current Ver</th>\n      <th>Android Ver</th>\n    </tr>\n  </thead>\n  <tbody>\n    <tr>\n      <th>0</th>\n      <td>Photo Editor &amp; Candy Camera &amp; Grid &amp; ScrapBook</td>\n      <td>ART_AND_DESIGN</td>\n      <td>4.1</td>\n      <td>159</td>\n      <td>19M</td>\n      <td>10000</td>\n      <td>Free</td>\n      <td>0</td>\n      <td>Everyone</td>\n      <td>Art &amp; Design</td>\n      <td>January 7, 2018</td>\n      <td>1.0.0</td>\n      <td>4.0.3 and up</td>\n    </tr>\n    <tr>\n      <th>1</th>\n      <td>Coloring book moana</td>\n      <td>ART_AND_DESIGN</td>\n      <td>3.9</td>\n      <td>967</td>\n      <td>14M</td>\n      <td>500000</td>\n      <td>Free</td>\n      <td>0</td>\n      <td>Everyone</td>\n      <td>Art &amp; Design;Pretend Play</td>\n      <td>January 15, 2018</td>\n      <td>2.0.0</td>\n      <td>4.0.3 and up</td>\n    </tr>\n    <tr>\n      <th>2</th>\n      <td>U Launcher Lite – FREE Live Cool Themes, Hide ...</td>\n      <td>ART_AND_DESIGN</td>\n      <td>4.7</td>\n      <td>87510</td>\n      <td>8.7M</td>\n      <td>5000000</td>\n      <td>Free</td>\n      <td>0</td>\n      <td>Everyone</td>\n      <td>Art &amp; Design</td>\n      <td>August 1, 2018</td>\n      <td>1.2.4</td>\n      <td>4.0.3 and up</td>\n    </tr>\n    <tr>\n      <th>3</th>\n      <td>Sketch - Draw &amp; Paint</td>\n      <td>ART_AND_DESIGN</td>\n      <td>4.5</td>\n      <td>215644</td>\n      <td>25M</td>\n      <td>50000000</td>\n      <td>Free</td>\n      <td>0</td>\n      <td>Teen</td>\n      <td>Art &amp; Design</td>\n      <td>June 8, 2018</td>\n      <td>Varies with device</td>\n      <td>4.2 and up</td>\n    </tr>\n    <tr>\n      <th>4</th>\n      <td>Pixel Draw - Number Art Coloring Book</td>\n      <td>ART_AND_DESIGN</td>\n      <td>4.3</td>\n      <td>967</td>\n      <td>2.8M</td>\n      <td>100000</td>\n      <td>Free</td>\n      <td>0</td>\n      <td>Everyone</td>\n      <td>Art &amp; Design;Creativity</td>\n      <td>June 20, 2018</td>\n      <td>1.1</td>\n      <td>4.4 and up</td>\n    </tr>\n  </tbody>\n</table>\n</div>"
     },
     "execution_count": 198,
     "metadata": {},
     "output_type": "execute_result"
    }
   ],
   "source": [
    "googlereviews.head()"
   ],
   "metadata": {
    "collapsed": false,
    "pycharm": {
     "name": "#%%\n"
    }
   }
  },
  {
   "cell_type": "markdown",
   "source": [
    "#### Web Scraping Data Source, second data source\n",
    "The data was obtained from this website [App Annie](https://www.appannie.com/en/apps/google-play/top/)\n",
    "Here the data is web scrapped, we find the elements that contain the table we are looking for."
   ],
   "metadata": {
    "collapsed": false
   }
  },
  {
   "cell_type": "code",
   "execution_count": 199,
   "outputs": [],
   "source": [
    "http = urllib3.PoolManager()\n",
    "response = http.request('GET',\n",
    "                            'https://www.appannie.com/en/apps/google-play/top/')\n",
    "soup = BeautifulSoup(response.data)\n",
    "table = soup.find_all('div', attrs={'class': 'textContainer_ssmtv3'})"
   ],
   "metadata": {
    "collapsed": false,
    "pycharm": {
     "name": "#%%\n"
    }
   }
  },
  {
   "cell_type": "markdown",
   "source": [
    "###### Cleaning the data\n",
    "The data that is scrapped from the web, there are three tables on the web page. Table for paid, grossing and free.\n",
    "The data is stripped down, and tidied up to only find the table with the applications names, ranking and type.\n",
    "Additional tiding up."
   ],
   "metadata": {
    "collapsed": false,
    "pycharm": {
     "name": "#%% md\n"
    }
   }
  },
  {
   "cell_type": "code",
   "execution_count": 200,
   "outputs": [],
   "source": [
    "rank=1\n",
    "ranked = []\n",
    "track = 0\n",
    "for rows in table:\n",
    "    appname = rows.find('p', attrs={'class': 'n_1jv8115-o_O-Content_1xn1r0f-o_O-c0f2346_4s8r2l-o_O-text_7y41qf-o_O-item_9xo99e'}).get_text().strip()\n",
    "    appname\n",
    "    if track < 50:\n",
    "        type = 'free'\n",
    "    elif track < 100:\n",
    "        type = 'paid'\n",
    "    else:\n",
    "        type = 'grossing'\n",
    "\n",
    "    ranked.append([rank, appname, type])\n",
    "    if rank ==50 or rank == 100:\n",
    "        rank = 0\n",
    "    rank += 1\n",
    "    track += 1\n",
    "\n",
    "rankeddf = pd.DataFrame(ranked, columns=[\"ranking\", \"name\", \"type\"])\n",
    "rankeddf.dropna(inplace=True)"
   ],
   "metadata": {
    "collapsed": false,
    "pycharm": {
     "name": "#%%\n"
    }
   }
  },
  {
   "cell_type": "markdown",
   "source": [
    "Here is the data after tiding up"
   ],
   "metadata": {
    "collapsed": false,
    "pycharm": {
     "name": "#%% md\n"
    }
   }
  },
  {
   "cell_type": "code",
   "execution_count": 201,
   "outputs": [
    {
     "data": {
      "text/plain": "   ranking                                           name  type\n0        1  GasBuddy: Find and Pay for Cheap Gas and Fuel  free\n1        2                   Crypto.com - Buy Bitcoin Now  free\n2        3   Coinbase – Buy & Sell Bitcoin. Crypto Wallet  free\n3        4                                  Slice It All!  free\n4        5                                 Catwalk Beauty  free",
      "text/html": "<div>\n<style scoped>\n    .dataframe tbody tr th:only-of-type {\n        vertical-align: middle;\n    }\n\n    .dataframe tbody tr th {\n        vertical-align: top;\n    }\n\n    .dataframe thead th {\n        text-align: right;\n    }\n</style>\n<table border=\"1\" class=\"dataframe\">\n  <thead>\n    <tr style=\"text-align: right;\">\n      <th></th>\n      <th>ranking</th>\n      <th>name</th>\n      <th>type</th>\n    </tr>\n  </thead>\n  <tbody>\n    <tr>\n      <th>0</th>\n      <td>1</td>\n      <td>GasBuddy: Find and Pay for Cheap Gas and Fuel</td>\n      <td>free</td>\n    </tr>\n    <tr>\n      <th>1</th>\n      <td>2</td>\n      <td>Crypto.com - Buy Bitcoin Now</td>\n      <td>free</td>\n    </tr>\n    <tr>\n      <th>2</th>\n      <td>3</td>\n      <td>Coinbase – Buy &amp; Sell Bitcoin. Crypto Wallet</td>\n      <td>free</td>\n    </tr>\n    <tr>\n      <th>3</th>\n      <td>4</td>\n      <td>Slice It All!</td>\n      <td>free</td>\n    </tr>\n    <tr>\n      <th>4</th>\n      <td>5</td>\n      <td>Catwalk Beauty</td>\n      <td>free</td>\n    </tr>\n  </tbody>\n</table>\n</div>"
     },
     "execution_count": 201,
     "metadata": {},
     "output_type": "execute_result"
    }
   ],
   "source": [
    "rankeddf.head()"
   ],
   "metadata": {
    "collapsed": false,
    "pycharm": {
     "name": "#%%\n"
    }
   }
  }
 ],
 "metadata": {
  "kernelspec": {
   "display_name": "Python 3",
   "language": "python",
   "name": "python3"
  },
  "language_info": {
   "codemirror_mode": {
    "name": "ipython",
    "version": 2
   },
   "file_extension": ".py",
   "mimetype": "text/x-python",
   "name": "python",
   "nbconvert_exporter": "python",
   "pygments_lexer": "ipython2",
   "version": "2.7.6"
  }
 },
 "nbformat": 4,
 "nbformat_minor": 0
}
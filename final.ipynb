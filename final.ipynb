{
 "cells": [
  {
   "cell_type": "code",
   "execution_count": 86,
   "metadata": {
    "collapsed": true,
    "pycharm": {
     "name": "#%%\n"
    }
   },
   "outputs": [],
   "source": [
    "#import statements\n",
    "import pandas as pd\n",
    "from bs4 import BeautifulSoup\n",
    "import urllib3"
   ]
  },
  {
   "cell_type": "markdown",
   "source": [
    "Motivation for Performing The Analysis\n",
    "=====================================\n",
    "I'm looking to analyze the Android market determine what are the most popular types of apps,\n",
    "looking at the different categories of apps and how they rank,\n",
    "and what applications and types are users rating the highest\n",
    "#### Main Data Source:\n",
    "[Kaggle - Google Play Store Apps](#https://www.kaggle.com/lava18/google-play-store-apps)\n",
    "Data has been included in this Github Repository\n",
    "Data is read in and tidied."
   ],
   "metadata": {
    "collapsed": false,
    "pycharm": {
     "name": "#%% md\n"
    }
   }
  },
  {
   "cell_type": "code",
   "execution_count": 159,
   "outputs": [],
   "source": [
    "googlereviews = pd.read_csv('googleplaystore.csv')\n",
    "googlesent = pd.read_csv('googleplaystore_user_reviews.csv')\n",
    "\n",
    "#Tidying data, drop empty values\n",
    "googlereviews.dropna(inplace=True)\n",
    "googlesent.dropna(inplace=True)\n",
    "\n",
    "#Tidying data, drop unneeded columns\n",
    "googlereviews.drop(columns=['Android Ver', 'Current Ver'])\n",
    "googlereviews['Installs'] = googlereviews['Installs'].str.replace('+', '')"
   ],
   "metadata": {
    "collapsed": false,
    "pycharm": {
     "name": "#%%\n"
    }
   }
  },
  {
   "cell_type": "code",
   "execution_count": 160,
   "outputs": [
    {
     "data": {
      "text/plain": "App                object\nCategory           object\nRating            float64\nReviews            object\nSize               object\nInstalls           object\nType               object\nPrice              object\nContent Rating     object\nGenres             object\nLast Updated       object\nCurrent Ver        object\nAndroid Ver        object\ndtype: object"
     },
     "execution_count": 160,
     "metadata": {},
     "output_type": "execute_result"
    }
   ],
   "source": [
    "googlereviews.dtypes"
   ],
   "metadata": {
    "collapsed": false,
    "pycharm": {
     "name": "#%%\n"
    }
   }
  },
  {
   "cell_type": "code",
   "execution_count": 161,
   "outputs": [
    {
     "data": {
      "text/plain": "                                                 App        Category  Rating  \\\n0     Photo Editor & Candy Camera & Grid & ScrapBook  ART_AND_DESIGN     4.1   \n1                                Coloring book moana  ART_AND_DESIGN     3.9   \n2  U Launcher Lite – FREE Live Cool Themes, Hide ...  ART_AND_DESIGN     4.7   \n3                              Sketch - Draw & Paint  ART_AND_DESIGN     4.5   \n4              Pixel Draw - Number Art Coloring Book  ART_AND_DESIGN     4.3   \n\n  Reviews  Size    Installs  Type Price Content Rating  \\\n0     159   19M      10,000  Free     0       Everyone   \n1     967   14M     500,000  Free     0       Everyone   \n2   87510  8.7M   5,000,000  Free     0       Everyone   \n3  215644   25M  50,000,000  Free     0           Teen   \n4     967  2.8M     100,000  Free     0       Everyone   \n\n                      Genres      Last Updated         Current Ver  \\\n0               Art & Design   January 7, 2018               1.0.0   \n1  Art & Design;Pretend Play  January 15, 2018               2.0.0   \n2               Art & Design    August 1, 2018               1.2.4   \n3               Art & Design      June 8, 2018  Varies with device   \n4    Art & Design;Creativity     June 20, 2018                 1.1   \n\n    Android Ver  \n0  4.0.3 and up  \n1  4.0.3 and up  \n2  4.0.3 and up  \n3    4.2 and up  \n4    4.4 and up  ",
      "text/html": "<div>\n<style scoped>\n    .dataframe tbody tr th:only-of-type {\n        vertical-align: middle;\n    }\n\n    .dataframe tbody tr th {\n        vertical-align: top;\n    }\n\n    .dataframe thead th {\n        text-align: right;\n    }\n</style>\n<table border=\"1\" class=\"dataframe\">\n  <thead>\n    <tr style=\"text-align: right;\">\n      <th></th>\n      <th>App</th>\n      <th>Category</th>\n      <th>Rating</th>\n      <th>Reviews</th>\n      <th>Size</th>\n      <th>Installs</th>\n      <th>Type</th>\n      <th>Price</th>\n      <th>Content Rating</th>\n      <th>Genres</th>\n      <th>Last Updated</th>\n      <th>Current Ver</th>\n      <th>Android Ver</th>\n    </tr>\n  </thead>\n  <tbody>\n    <tr>\n      <th>0</th>\n      <td>Photo Editor &amp; Candy Camera &amp; Grid &amp; ScrapBook</td>\n      <td>ART_AND_DESIGN</td>\n      <td>4.1</td>\n      <td>159</td>\n      <td>19M</td>\n      <td>10,000</td>\n      <td>Free</td>\n      <td>0</td>\n      <td>Everyone</td>\n      <td>Art &amp; Design</td>\n      <td>January 7, 2018</td>\n      <td>1.0.0</td>\n      <td>4.0.3 and up</td>\n    </tr>\n    <tr>\n      <th>1</th>\n      <td>Coloring book moana</td>\n      <td>ART_AND_DESIGN</td>\n      <td>3.9</td>\n      <td>967</td>\n      <td>14M</td>\n      <td>500,000</td>\n      <td>Free</td>\n      <td>0</td>\n      <td>Everyone</td>\n      <td>Art &amp; Design;Pretend Play</td>\n      <td>January 15, 2018</td>\n      <td>2.0.0</td>\n      <td>4.0.3 and up</td>\n    </tr>\n    <tr>\n      <th>2</th>\n      <td>U Launcher Lite – FREE Live Cool Themes, Hide ...</td>\n      <td>ART_AND_DESIGN</td>\n      <td>4.7</td>\n      <td>87510</td>\n      <td>8.7M</td>\n      <td>5,000,000</td>\n      <td>Free</td>\n      <td>0</td>\n      <td>Everyone</td>\n      <td>Art &amp; Design</td>\n      <td>August 1, 2018</td>\n      <td>1.2.4</td>\n      <td>4.0.3 and up</td>\n    </tr>\n    <tr>\n      <th>3</th>\n      <td>Sketch - Draw &amp; Paint</td>\n      <td>ART_AND_DESIGN</td>\n      <td>4.5</td>\n      <td>215644</td>\n      <td>25M</td>\n      <td>50,000,000</td>\n      <td>Free</td>\n      <td>0</td>\n      <td>Teen</td>\n      <td>Art &amp; Design</td>\n      <td>June 8, 2018</td>\n      <td>Varies with device</td>\n      <td>4.2 and up</td>\n    </tr>\n    <tr>\n      <th>4</th>\n      <td>Pixel Draw - Number Art Coloring Book</td>\n      <td>ART_AND_DESIGN</td>\n      <td>4.3</td>\n      <td>967</td>\n      <td>2.8M</td>\n      <td>100,000</td>\n      <td>Free</td>\n      <td>0</td>\n      <td>Everyone</td>\n      <td>Art &amp; Design;Creativity</td>\n      <td>June 20, 2018</td>\n      <td>1.1</td>\n      <td>4.4 and up</td>\n    </tr>\n  </tbody>\n</table>\n</div>"
     },
     "execution_count": 161,
     "metadata": {},
     "output_type": "execute_result"
    }
   ],
   "source": [
    "googlereviews.head()"
   ],
   "metadata": {
    "collapsed": false,
    "pycharm": {
     "name": "#%%\n"
    }
   }
  },
  {
   "cell_type": "code",
   "execution_count": 157,
   "outputs": [
    {
     "data": {
      "text/plain": "                                                 App        Category  Rating  \\\n0     Photo Editor & Candy Camera & Grid & ScrapBook  ART_AND_DESIGN     4.1   \n1                                Coloring book moana  ART_AND_DESIGN     3.9   \n2  U Launcher Lite – FREE Live Cool Themes, Hide ...  ART_AND_DESIGN     4.7   \n3                              Sketch - Draw & Paint  ART_AND_DESIGN     4.5   \n4              Pixel Draw - Number Art Coloring Book  ART_AND_DESIGN     4.3   \n\n  Reviews  Size  Installs  Type Price Content Rating  \\\n0     159   19M     10000  Free     0       Everyone   \n1     967   14M    500000  Free     0       Everyone   \n2   87510  8.7M   5000000  Free     0       Everyone   \n3  215644   25M  50000000  Free     0           Teen   \n4     967  2.8M    100000  Free     0       Everyone   \n\n                      Genres      Last Updated         Current Ver  \\\n0               Art & Design   January 7, 2018               1.0.0   \n1  Art & Design;Pretend Play  January 15, 2018               2.0.0   \n2               Art & Design    August 1, 2018               1.2.4   \n3               Art & Design      June 8, 2018  Varies with device   \n4    Art & Design;Creativity     June 20, 2018                 1.1   \n\n    Android Ver  \n0  4.0.3 and up  \n1  4.0.3 and up  \n2  4.0.3 and up  \n3    4.2 and up  \n4    4.4 and up  ",
      "text/html": "<div>\n<style scoped>\n    .dataframe tbody tr th:only-of-type {\n        vertical-align: middle;\n    }\n\n    .dataframe tbody tr th {\n        vertical-align: top;\n    }\n\n    .dataframe thead th {\n        text-align: right;\n    }\n</style>\n<table border=\"1\" class=\"dataframe\">\n  <thead>\n    <tr style=\"text-align: right;\">\n      <th></th>\n      <th>App</th>\n      <th>Category</th>\n      <th>Rating</th>\n      <th>Reviews</th>\n      <th>Size</th>\n      <th>Installs</th>\n      <th>Type</th>\n      <th>Price</th>\n      <th>Content Rating</th>\n      <th>Genres</th>\n      <th>Last Updated</th>\n      <th>Current Ver</th>\n      <th>Android Ver</th>\n    </tr>\n  </thead>\n  <tbody>\n    <tr>\n      <th>0</th>\n      <td>Photo Editor &amp; Candy Camera &amp; Grid &amp; ScrapBook</td>\n      <td>ART_AND_DESIGN</td>\n      <td>4.1</td>\n      <td>159</td>\n      <td>19M</td>\n      <td>10000</td>\n      <td>Free</td>\n      <td>0</td>\n      <td>Everyone</td>\n      <td>Art &amp; Design</td>\n      <td>January 7, 2018</td>\n      <td>1.0.0</td>\n      <td>4.0.3 and up</td>\n    </tr>\n    <tr>\n      <th>1</th>\n      <td>Coloring book moana</td>\n      <td>ART_AND_DESIGN</td>\n      <td>3.9</td>\n      <td>967</td>\n      <td>14M</td>\n      <td>500000</td>\n      <td>Free</td>\n      <td>0</td>\n      <td>Everyone</td>\n      <td>Art &amp; Design;Pretend Play</td>\n      <td>January 15, 2018</td>\n      <td>2.0.0</td>\n      <td>4.0.3 and up</td>\n    </tr>\n    <tr>\n      <th>2</th>\n      <td>U Launcher Lite – FREE Live Cool Themes, Hide ...</td>\n      <td>ART_AND_DESIGN</td>\n      <td>4.7</td>\n      <td>87510</td>\n      <td>8.7M</td>\n      <td>5000000</td>\n      <td>Free</td>\n      <td>0</td>\n      <td>Everyone</td>\n      <td>Art &amp; Design</td>\n      <td>August 1, 2018</td>\n      <td>1.2.4</td>\n      <td>4.0.3 and up</td>\n    </tr>\n    <tr>\n      <th>3</th>\n      <td>Sketch - Draw &amp; Paint</td>\n      <td>ART_AND_DESIGN</td>\n      <td>4.5</td>\n      <td>215644</td>\n      <td>25M</td>\n      <td>50000000</td>\n      <td>Free</td>\n      <td>0</td>\n      <td>Teen</td>\n      <td>Art &amp; Design</td>\n      <td>June 8, 2018</td>\n      <td>Varies with device</td>\n      <td>4.2 and up</td>\n    </tr>\n    <tr>\n      <th>4</th>\n      <td>Pixel Draw - Number Art Coloring Book</td>\n      <td>ART_AND_DESIGN</td>\n      <td>4.3</td>\n      <td>967</td>\n      <td>2.8M</td>\n      <td>100000</td>\n      <td>Free</td>\n      <td>0</td>\n      <td>Everyone</td>\n      <td>Art &amp; Design;Creativity</td>\n      <td>June 20, 2018</td>\n      <td>1.1</td>\n      <td>4.4 and up</td>\n    </tr>\n  </tbody>\n</table>\n</div>"
     },
     "execution_count": 157,
     "metadata": {},
     "output_type": "execute_result"
    }
   ],
   "source": [
    "#googlereviews['Installs'].astype(str).astype(int)\n",
    "#pd.to_numeric(googlereviews['Installs'])\n",
    "#googlereviews['Installs'] = pd.to_numeric(googlereviews['Installs'], errors='coerce')\n",
    "googlereviews['Installs'] = googlereviews['Installs'].str.replace(\",\",\"\")\n",
    "googlereviews['Installs'] = pd.to_numeric(googlereviews['Installs'], errors='coerce')\n",
    "\n",
    "#googlereviews['Installs'] = pd.to_numeric(googlereviews['Installs'])\n",
    "googlereviews.head()"
   ],
   "metadata": {
    "collapsed": false,
    "pycharm": {
     "name": "#%%\n"
    }
   }
  },
  {
   "cell_type": "code",
   "execution_count": 146,
   "outputs": [
    {
     "data": {
      "text/plain": "                     App                                  Translated_Review  \\\n0  10 Best Foods for You  I like eat delicious food. That's I'm cooking ...   \n1  10 Best Foods for You    This help eating healthy exercise regular basis   \n3  10 Best Foods for You         Works great especially going grocery store   \n4  10 Best Foods for You                                       Best idea us   \n5  10 Best Foods for You                                           Best way   \n\n  Sentiment  Sentiment_Polarity  Sentiment_Subjectivity  \n0  Positive                1.00                0.533333  \n1  Positive                0.25                0.288462  \n3  Positive                0.40                0.875000  \n4  Positive                1.00                0.300000  \n5  Positive                1.00                0.300000  ",
      "text/html": "<div>\n<style scoped>\n    .dataframe tbody tr th:only-of-type {\n        vertical-align: middle;\n    }\n\n    .dataframe tbody tr th {\n        vertical-align: top;\n    }\n\n    .dataframe thead th {\n        text-align: right;\n    }\n</style>\n<table border=\"1\" class=\"dataframe\">\n  <thead>\n    <tr style=\"text-align: right;\">\n      <th></th>\n      <th>App</th>\n      <th>Translated_Review</th>\n      <th>Sentiment</th>\n      <th>Sentiment_Polarity</th>\n      <th>Sentiment_Subjectivity</th>\n    </tr>\n  </thead>\n  <tbody>\n    <tr>\n      <th>0</th>\n      <td>10 Best Foods for You</td>\n      <td>I like eat delicious food. That's I'm cooking ...</td>\n      <td>Positive</td>\n      <td>1.00</td>\n      <td>0.533333</td>\n    </tr>\n    <tr>\n      <th>1</th>\n      <td>10 Best Foods for You</td>\n      <td>This help eating healthy exercise regular basis</td>\n      <td>Positive</td>\n      <td>0.25</td>\n      <td>0.288462</td>\n    </tr>\n    <tr>\n      <th>3</th>\n      <td>10 Best Foods for You</td>\n      <td>Works great especially going grocery store</td>\n      <td>Positive</td>\n      <td>0.40</td>\n      <td>0.875000</td>\n    </tr>\n    <tr>\n      <th>4</th>\n      <td>10 Best Foods for You</td>\n      <td>Best idea us</td>\n      <td>Positive</td>\n      <td>1.00</td>\n      <td>0.300000</td>\n    </tr>\n    <tr>\n      <th>5</th>\n      <td>10 Best Foods for You</td>\n      <td>Best way</td>\n      <td>Positive</td>\n      <td>1.00</td>\n      <td>0.300000</td>\n    </tr>\n  </tbody>\n</table>\n</div>"
     },
     "execution_count": 146,
     "metadata": {},
     "output_type": "execute_result"
    }
   ],
   "source": [
    "googlesent.head()"
   ],
   "metadata": {
    "collapsed": false,
    "pycharm": {
     "name": "#%%\n"
    }
   }
  },
  {
   "cell_type": "markdown",
   "source": [
    "#### Web Scraping Data Source\n",
    "[App Annie](https://www.appannie.com/en/apps/google-play/top/)\n",
    "Here the data is web scrapped, we find the elements that contain the table we are looking fo."
   ],
   "metadata": {
    "collapsed": false
   }
  },
  {
   "cell_type": "code",
   "execution_count": 90,
   "outputs": [
    {
     "name": "stdout",
     "output_type": "stream",
     "text": [
      "[<div class=\"textContainer_ssmtv3\"><p class=\"n_1jv8115-o_O-Content_1xn1r0f-o_O-c0f2346_4s8r2l-o_O-text_7y41qf-o_O-item_9xo99e\">GasBuddy: Find and Pay for Cheap Gas and Fuel</p><p class=\"n_1jv8115-o_O-Small_7u8o3i-o_O-c8790a2_1bcd4jz-o_O-item_9xo99e\">GasBuddy</p></div>, <div class=\"textContainer_ssmtv3\"><p class=\"n_1jv8115-o_O-Content_1xn1r0f-o_O-c0f2346_4s8r2l-o_O-text_7y41qf-o_O-item_9xo99e\">Crypto.com - Buy Bitcoin Now</p><p class=\"n_1jv8115-o_O-Small_7u8o3i-o_O-c8790a2_1bcd4jz-o_O-item_9xo99e\">Crypto Technology Holdings Limited</p></div>, <div class=\"textContainer_ssmtv3\"><p class=\"n_1jv8115-o_O-Content_1xn1r0f-o_O-c0f2346_4s8r2l-o_O-text_7y41qf-o_O-item_9xo99e\">Coinbase – Buy &amp; Sell Bitcoin. Crypto Wallet</p><p class=\"n_1jv8115-o_O-Small_7u8o3i-o_O-c8790a2_1bcd4jz-o_O-item_9xo99e\">Coinbase Android</p></div>, <div class=\"textContainer_ssmtv3\"><p class=\"n_1jv8115-o_O-Content_1xn1r0f-o_O-c0f2346_4s8r2l-o_O-text_7y41qf-o_O-item_9xo99e\">Slice It All!</p><p class=\"n_1jv8115-o_O-Small_7u8o3i-o_O-c8790a2_1bcd4jz-o_O-item_9xo99e\">VOODOO</p></div>, <div class=\"textContainer_ssmtv3\"><p class=\"n_1jv8115-o_O-Content_1xn1r0f-o_O-c0f2346_4s8r2l-o_O-text_7y41qf-o_O-item_9xo99e\">Catwalk Beauty</p><p class=\"n_1jv8115-o_O-Small_7u8o3i-o_O-c8790a2_1bcd4jz-o_O-item_9xo99e\">Create Better GameS</p></div>, <div class=\"textContainer_ssmtv3\"><p class=\"n_1jv8115-o_O-Content_1xn1r0f-o_O-c0f2346_4s8r2l-o_O-text_7y41qf-o_O-item_9xo99e\">Bounce and collect</p><p class=\"n_1jv8115-o_O-Small_7u8o3i-o_O-c8790a2_1bcd4jz-o_O-item_9xo99e\">VOODOO</p></div>, <div class=\"textContainer_ssmtv3\"><p class=\"n_1jv8115-o_O-Content_1xn1r0f-o_O-c0f2346_4s8r2l-o_O-text_7y41qf-o_O-item_9xo99e\">TikTok</p><p class=\"n_1jv8115-o_O-Small_7u8o3i-o_O-c8790a2_1bcd4jz-o_O-item_9xo99e\">TikTok Pte. Ltd.</p></div>, <div class=\"textContainer_ssmtv3\"><p class=\"n_1jv8115-o_O-Content_1xn1r0f-o_O-c0f2346_4s8r2l-o_O-text_7y41qf-o_O-item_9xo99e\">Paper Fold</p><p class=\"n_1jv8115-o_O-Small_7u8o3i-o_O-c8790a2_1bcd4jz-o_O-item_9xo99e\">Good Job Games</p></div>, <div class=\"textContainer_ssmtv3\"><p class=\"n_1jv8115-o_O-Content_1xn1r0f-o_O-c0f2346_4s8r2l-o_O-text_7y41qf-o_O-item_9xo99e\">Google Pay: A safe &amp; helpful way to manage money</p><p class=\"n_1jv8115-o_O-Small_7u8o3i-o_O-c8790a2_1bcd4jz-o_O-item_9xo99e\">Google LLC</p></div>, <div class=\"textContainer_ssmtv3\"><p class=\"n_1jv8115-o_O-Content_1xn1r0f-o_O-c0f2346_4s8r2l-o_O-text_7y41qf-o_O-item_9xo99e\">ZOOM Cloud Meetings</p><p class=\"n_1jv8115-o_O-Small_7u8o3i-o_O-c8790a2_1bcd4jz-o_O-item_9xo99e\">zoom.us</p></div>, <div class=\"textContainer_ssmtv3\"><p class=\"n_1jv8115-o_O-Content_1xn1r0f-o_O-c0f2346_4s8r2l-o_O-text_7y41qf-o_O-item_9xo99e\">Hair Challenge</p><p class=\"n_1jv8115-o_O-Small_7u8o3i-o_O-c8790a2_1bcd4jz-o_O-item_9xo99e\">Rollic Games</p></div>, <div class=\"textContainer_ssmtv3\"><p class=\"n_1jv8115-o_O-Content_1xn1r0f-o_O-c0f2346_4s8r2l-o_O-text_7y41qf-o_O-item_9xo99e\">Makeover Run</p><p class=\"n_1jv8115-o_O-Small_7u8o3i-o_O-c8790a2_1bcd4jz-o_O-item_9xo99e\">MOONEE PUBLISHING LTD</p></div>, <div class=\"textContainer_ssmtv3\"><p class=\"n_1jv8115-o_O-Content_1xn1r0f-o_O-c0f2346_4s8r2l-o_O-text_7y41qf-o_O-item_9xo99e\">PictureThis: Identify Plant, Flower, Weed and More</p><p class=\"n_1jv8115-o_O-Small_7u8o3i-o_O-c8790a2_1bcd4jz-o_O-item_9xo99e\">Glority LLC</p></div>, <div class=\"textContainer_ssmtv3\"><p class=\"n_1jv8115-o_O-Content_1xn1r0f-o_O-c0f2346_4s8r2l-o_O-text_7y41qf-o_O-item_9xo99e\">Rob Master 3D</p><p class=\"n_1jv8115-o_O-Small_7u8o3i-o_O-c8790a2_1bcd4jz-o_O-item_9xo99e\">Alictus</p></div>, <div class=\"textContainer_ssmtv3\"><p class=\"n_1jv8115-o_O-Content_1xn1r0f-o_O-c0f2346_4s8r2l-o_O-text_7y41qf-o_O-item_9xo99e\">Bridge Race</p><p class=\"n_1jv8115-o_O-Small_7u8o3i-o_O-c8790a2_1bcd4jz-o_O-item_9xo99e\">Supersonic Studios LTD</p></div>, <div class=\"textContainer_ssmtv3\"><p class=\"n_1jv8115-o_O-Content_1xn1r0f-o_O-c0f2346_4s8r2l-o_O-text_7y41qf-o_O-item_9xo99e\">Cash App</p><p class=\"n_1jv8115-o_O-Small_7u8o3i-o_O-c8790a2_1bcd4jz-o_O-item_9xo99e\">Square, Inc.</p></div>, <div class=\"textContainer_ssmtv3\"><p class=\"n_1jv8115-o_O-Content_1xn1r0f-o_O-c0f2346_4s8r2l-o_O-text_7y41qf-o_O-item_9xo99e\">Fidget Toys 3D - Fidget Cube, AntiStress &amp; Calm</p><p class=\"n_1jv8115-o_O-Small_7u8o3i-o_O-c8790a2_1bcd4jz-o_O-item_9xo99e\">Fidget Dev</p></div>, <div class=\"textContainer_ssmtv3\"><p class=\"n_1jv8115-o_O-Content_1xn1r0f-o_O-c0f2346_4s8r2l-o_O-text_7y41qf-o_O-item_9xo99e\">Robinhood - Investment &amp; Trading, Commission-free</p><p class=\"n_1jv8115-o_O-Small_7u8o3i-o_O-c8790a2_1bcd4jz-o_O-item_9xo99e\">Robinhood</p></div>, <div class=\"textContainer_ssmtv3\"><p class=\"n_1jv8115-o_O-Content_1xn1r0f-o_O-c0f2346_4s8r2l-o_O-text_7y41qf-o_O-item_9xo99e\">WhatsApp Messenger</p><p class=\"n_1jv8115-o_O-Small_7u8o3i-o_O-c8790a2_1bcd4jz-o_O-item_9xo99e\">WhatsApp LLC</p></div>, <div class=\"textContainer_ssmtv3\"><p class=\"n_1jv8115-o_O-Content_1xn1r0f-o_O-c0f2346_4s8r2l-o_O-text_7y41qf-o_O-item_9xo99e\">BallRun2048</p><p class=\"n_1jv8115-o_O-Small_7u8o3i-o_O-c8790a2_1bcd4jz-o_O-item_9xo99e\">KAYAC Inc.</p></div>, <div class=\"textContainer_ssmtv3\"><p class=\"n_1jv8115-o_O-Content_1xn1r0f-o_O-c0f2346_4s8r2l-o_O-text_7y41qf-o_O-item_9xo99e\">Instagram</p><p class=\"n_1jv8115-o_O-Small_7u8o3i-o_O-c8790a2_1bcd4jz-o_O-item_9xo99e\">Instagram</p></div>, <div class=\"textContainer_ssmtv3\"><p class=\"n_1jv8115-o_O-Content_1xn1r0f-o_O-c0f2346_4s8r2l-o_O-text_7y41qf-o_O-item_9xo99e\">The Superhero League</p><p class=\"n_1jv8115-o_O-Small_7u8o3i-o_O-c8790a2_1bcd4jz-o_O-item_9xo99e\">Lion Studios</p></div>, <div class=\"textContainer_ssmtv3\"><p class=\"n_1jv8115-o_O-Content_1xn1r0f-o_O-c0f2346_4s8r2l-o_O-text_7y41qf-o_O-item_9xo99e\">Snapchat</p><p class=\"n_1jv8115-o_O-Small_7u8o3i-o_O-c8790a2_1bcd4jz-o_O-item_9xo99e\">Snap Inc</p></div>, <div class=\"textContainer_ssmtv3\"><p class=\"n_1jv8115-o_O-Content_1xn1r0f-o_O-c0f2346_4s8r2l-o_O-text_7y41qf-o_O-item_9xo99e\">Ragdoll Fighter</p><p class=\"n_1jv8115-o_O-Small_7u8o3i-o_O-c8790a2_1bcd4jz-o_O-item_9xo99e\">Rollic Games</p></div>, <div class=\"textContainer_ssmtv3\"><p class=\"n_1jv8115-o_O-Content_1xn1r0f-o_O-c0f2346_4s8r2l-o_O-text_7y41qf-o_O-item_9xo99e\">Tubi - Free Movies &amp; TV Shows</p><p class=\"n_1jv8115-o_O-Small_7u8o3i-o_O-c8790a2_1bcd4jz-o_O-item_9xo99e\">Tubi TV</p></div>, <div class=\"textContainer_ssmtv3\"><p class=\"n_1jv8115-o_O-Content_1xn1r0f-o_O-c0f2346_4s8r2l-o_O-text_7y41qf-o_O-item_9xo99e\">Messenger – Text and Video Chat for Free</p><p class=\"n_1jv8115-o_O-Small_7u8o3i-o_O-c8790a2_1bcd4jz-o_O-item_9xo99e\">Facebook</p></div>, <div class=\"textContainer_ssmtv3\"><p class=\"n_1jv8115-o_O-Content_1xn1r0f-o_O-c0f2346_4s8r2l-o_O-text_7y41qf-o_O-item_9xo99e\">USPS MOBILE®</p><p class=\"n_1jv8115-o_O-Small_7u8o3i-o_O-c8790a2_1bcd4jz-o_O-item_9xo99e\">United States Postal Service®</p></div>, <div class=\"textContainer_ssmtv3\"><p class=\"n_1jv8115-o_O-Content_1xn1r0f-o_O-c0f2346_4s8r2l-o_O-text_7y41qf-o_O-item_9xo99e\">PayPal Mobile Cash: Send and Request Money Fast</p><p class=\"n_1jv8115-o_O-Small_7u8o3i-o_O-c8790a2_1bcd4jz-o_O-item_9xo99e\">PayPal Mobile</p></div>, <div class=\"textContainer_ssmtv3\"><p class=\"n_1jv8115-o_O-Content_1xn1r0f-o_O-c0f2346_4s8r2l-o_O-text_7y41qf-o_O-item_9xo99e\">Microsoft Teams</p><p class=\"n_1jv8115-o_O-Small_7u8o3i-o_O-c8790a2_1bcd4jz-o_O-item_9xo99e\">Microsoft Corporation</p></div>, <div class=\"textContainer_ssmtv3\"><p class=\"n_1jv8115-o_O-Content_1xn1r0f-o_O-c0f2346_4s8r2l-o_O-text_7y41qf-o_O-item_9xo99e\">Dice Push</p><p class=\"n_1jv8115-o_O-Small_7u8o3i-o_O-c8790a2_1bcd4jz-o_O-item_9xo99e\">VOODOO</p></div>, <div class=\"textContainer_ssmtv3\"><p class=\"n_1jv8115-o_O-Content_1xn1r0f-o_O-c0f2346_4s8r2l-o_O-text_7y41qf-o_O-item_9xo99e\">HBO Max: Stream and Watch TV, Movies, and More</p><p class=\"n_1jv8115-o_O-Small_7u8o3i-o_O-c8790a2_1bcd4jz-o_O-item_9xo99e\">WarnerMedia Global Digital Services, LLC</p></div>, <div class=\"textContainer_ssmtv3\"><p class=\"n_1jv8115-o_O-Content_1xn1r0f-o_O-c0f2346_4s8r2l-o_O-text_7y41qf-o_O-item_9xo99e\">Binance: Bitcoin Marketplace &amp; Crypto Wallet</p><p class=\"n_1jv8115-o_O-Small_7u8o3i-o_O-c8790a2_1bcd4jz-o_O-item_9xo99e\">Binance Inc.</p></div>, <div class=\"textContainer_ssmtv3\"><p class=\"n_1jv8115-o_O-Content_1xn1r0f-o_O-c0f2346_4s8r2l-o_O-text_7y41qf-o_O-item_9xo99e\">SHEIN-Fashion Shopping Online</p><p class=\"n_1jv8115-o_O-Small_7u8o3i-o_O-c8790a2_1bcd4jz-o_O-item_9xo99e\">ZOETOP BUSINESS CO., LIMITED</p></div>, <div class=\"textContainer_ssmtv3\"><p class=\"n_1jv8115-o_O-Content_1xn1r0f-o_O-c0f2346_4s8r2l-o_O-text_7y41qf-o_O-item_9xo99e\">Google Play Games</p><p class=\"n_1jv8115-o_O-Small_7u8o3i-o_O-c8790a2_1bcd4jz-o_O-item_9xo99e\">Google LLC</p></div>, <div class=\"textContainer_ssmtv3\"><p class=\"n_1jv8115-o_O-Content_1xn1r0f-o_O-c0f2346_4s8r2l-o_O-text_7y41qf-o_O-item_9xo99e\">Suspects: Mystery Mansion</p><p class=\"n_1jv8115-o_O-Small_7u8o3i-o_O-c8790a2_1bcd4jz-o_O-item_9xo99e\">Wildlife Studios</p></div>, <div class=\"textContainer_ssmtv3\"><p class=\"n_1jv8115-o_O-Content_1xn1r0f-o_O-c0f2346_4s8r2l-o_O-text_7y41qf-o_O-item_9xo99e\">Shop: package &amp; order tracker</p><p class=\"n_1jv8115-o_O-Small_7u8o3i-o_O-c8790a2_1bcd4jz-o_O-item_9xo99e\">Shopify Inc.</p></div>, <div class=\"textContainer_ssmtv3\"><p class=\"n_1jv8115-o_O-Content_1xn1r0f-o_O-c0f2346_4s8r2l-o_O-text_7y41qf-o_O-item_9xo99e\">DoorDash - Food Delivery</p><p class=\"n_1jv8115-o_O-Small_7u8o3i-o_O-c8790a2_1bcd4jz-o_O-item_9xo99e\">DoorDash</p></div>, <div class=\"textContainer_ssmtv3\"><p class=\"n_1jv8115-o_O-Content_1xn1r0f-o_O-c0f2346_4s8r2l-o_O-text_7y41qf-o_O-item_9xo99e\">Venmo</p><p class=\"n_1jv8115-o_O-Small_7u8o3i-o_O-c8790a2_1bcd4jz-o_O-item_9xo99e\">PayPal, Inc.</p></div>, <div class=\"textContainer_ssmtv3\"><p class=\"n_1jv8115-o_O-Content_1xn1r0f-o_O-c0f2346_4s8r2l-o_O-text_7y41qf-o_O-item_9xo99e\">Telegram</p><p class=\"n_1jv8115-o_O-Small_7u8o3i-o_O-c8790a2_1bcd4jz-o_O-item_9xo99e\">Telegram FZ-LLC</p></div>, <div class=\"textContainer_ssmtv3\"><p class=\"n_1jv8115-o_O-Content_1xn1r0f-o_O-c0f2346_4s8r2l-o_O-text_7y41qf-o_O-item_9xo99e\">DoorDash - Driver</p><p class=\"n_1jv8115-o_O-Small_7u8o3i-o_O-c8790a2_1bcd4jz-o_O-item_9xo99e\">DoorDash</p></div>, <div class=\"textContainer_ssmtv3\"><p class=\"n_1jv8115-o_O-Content_1xn1r0f-o_O-c0f2346_4s8r2l-o_O-text_7y41qf-o_O-item_9xo99e\">ABPV – America’s best pics and videos</p><p class=\"n_1jv8115-o_O-Small_7u8o3i-o_O-c8790a2_1bcd4jz-o_O-item_9xo99e\">FUNTECH PUBLISHING LTD</p></div>, <div class=\"textContainer_ssmtv3\"><p class=\"n_1jv8115-o_O-Content_1xn1r0f-o_O-c0f2346_4s8r2l-o_O-text_7y41qf-o_O-item_9xo99e\">Make It Fly!</p><p class=\"n_1jv8115-o_O-Small_7u8o3i-o_O-c8790a2_1bcd4jz-o_O-item_9xo99e\">TapNice</p></div>, <div class=\"textContainer_ssmtv3\"><p class=\"n_1jv8115-o_O-Content_1xn1r0f-o_O-c0f2346_4s8r2l-o_O-text_7y41qf-o_O-item_9xo99e\">Trust: Crypto &amp; Bitcoin Wallet</p><p class=\"n_1jv8115-o_O-Small_7u8o3i-o_O-c8790a2_1bcd4jz-o_O-item_9xo99e\">DApps Platform Inc</p></div>, <div class=\"textContainer_ssmtv3\"><p class=\"n_1jv8115-o_O-Content_1xn1r0f-o_O-c0f2346_4s8r2l-o_O-text_7y41qf-o_O-item_9xo99e\">Discord - Talk, Video Chat &amp; Hang Out with Friends</p><p class=\"n_1jv8115-o_O-Small_7u8o3i-o_O-c8790a2_1bcd4jz-o_O-item_9xo99e\">Discord Inc.</p></div>, <div class=\"textContainer_ssmtv3\"><p class=\"n_1jv8115-o_O-Content_1xn1r0f-o_O-c0f2346_4s8r2l-o_O-text_7y41qf-o_O-item_9xo99e\">Facebook</p><p class=\"n_1jv8115-o_O-Small_7u8o3i-o_O-c8790a2_1bcd4jz-o_O-item_9xo99e\">Facebook</p></div>, <div class=\"textContainer_ssmtv3\"><p class=\"n_1jv8115-o_O-Content_1xn1r0f-o_O-c0f2346_4s8r2l-o_O-text_7y41qf-o_O-item_9xo99e\">Amazon Prime Video</p><p class=\"n_1jv8115-o_O-Small_7u8o3i-o_O-c8790a2_1bcd4jz-o_O-item_9xo99e\">Amazon Mobile LLC</p></div>, <div class=\"textContainer_ssmtv3\"><p class=\"n_1jv8115-o_O-Content_1xn1r0f-o_O-c0f2346_4s8r2l-o_O-text_7y41qf-o_O-item_9xo99e\">Webull: Investing &amp; Trading. All Commission Free</p><p class=\"n_1jv8115-o_O-Small_7u8o3i-o_O-c8790a2_1bcd4jz-o_O-item_9xo99e\">Webull Technologies Limited</p></div>, <div class=\"textContainer_ssmtv3\"><p class=\"n_1jv8115-o_O-Content_1xn1r0f-o_O-c0f2346_4s8r2l-o_O-text_7y41qf-o_O-item_9xo99e\">Informed Delivery®</p><p class=\"n_1jv8115-o_O-Small_7u8o3i-o_O-c8790a2_1bcd4jz-o_O-item_9xo99e\">United States Postal Service®</p></div>, <div class=\"textContainer_ssmtv3\"><p class=\"n_1jv8115-o_O-Content_1xn1r0f-o_O-c0f2346_4s8r2l-o_O-text_7y41qf-o_O-item_9xo99e\">FileMaster: File Manage, File Transfer Power Clean</p><p class=\"n_1jv8115-o_O-Small_7u8o3i-o_O-c8790a2_1bcd4jz-o_O-item_9xo99e\">SmartVisionMobi</p></div>, <div class=\"textContainer_ssmtv3\"><p class=\"n_1jv8115-o_O-Content_1xn1r0f-o_O-c0f2346_4s8r2l-o_O-text_7y41qf-o_O-item_9xo99e\">CapCut</p><p class=\"n_1jv8115-o_O-Small_7u8o3i-o_O-c8790a2_1bcd4jz-o_O-item_9xo99e\">Bytedance Pte. Ltd.</p></div>, <div class=\"textContainer_ssmtv3\"><p class=\"n_1jv8115-o_O-Content_1xn1r0f-o_O-c0f2346_4s8r2l-o_O-text_7y41qf-o_O-item_9xo99e\">Minecraft</p><p class=\"n_1jv8115-o_O-Small_7u8o3i-o_O-c8790a2_1bcd4jz-o_O-item_9xo99e\">Mojang</p></div>, <div class=\"textContainer_ssmtv3\"><p class=\"n_1jv8115-o_O-Content_1xn1r0f-o_O-c0f2346_4s8r2l-o_O-text_7y41qf-o_O-item_9xo99e\">Evertale</p><p class=\"n_1jv8115-o_O-Small_7u8o3i-o_O-c8790a2_1bcd4jz-o_O-item_9xo99e\">ZigZaGame Inc.</p></div>, <div class=\"textContainer_ssmtv3\"><p class=\"n_1jv8115-o_O-Content_1xn1r0f-o_O-c0f2346_4s8r2l-o_O-text_7y41qf-o_O-item_9xo99e\">Bloons TD 6</p><p class=\"n_1jv8115-o_O-Small_7u8o3i-o_O-c8790a2_1bcd4jz-o_O-item_9xo99e\">ninja kiwi</p></div>, <div class=\"textContainer_ssmtv3\"><p class=\"n_1jv8115-o_O-Content_1xn1r0f-o_O-c0f2346_4s8r2l-o_O-text_7y41qf-o_O-item_9xo99e\">Geometry Dash</p><p class=\"n_1jv8115-o_O-Small_7u8o3i-o_O-c8790a2_1bcd4jz-o_O-item_9xo99e\">RobTop Games</p></div>, <div class=\"textContainer_ssmtv3\"><p class=\"n_1jv8115-o_O-Content_1xn1r0f-o_O-c0f2346_4s8r2l-o_O-text_7y41qf-o_O-item_9xo99e\">Monopoly - Board game classic about real-estate!</p><p class=\"n_1jv8115-o_O-Small_7u8o3i-o_O-c8790a2_1bcd4jz-o_O-item_9xo99e\">Marmalade Game Studio</p></div>, <div class=\"textContainer_ssmtv3\"><p class=\"n_1jv8115-o_O-Content_1xn1r0f-o_O-c0f2346_4s8r2l-o_O-text_7y41qf-o_O-item_9xo99e\">HotSchedules</p><p class=\"n_1jv8115-o_O-Small_7u8o3i-o_O-c8790a2_1bcd4jz-o_O-item_9xo99e\">HotSchedules</p></div>, <div class=\"textContainer_ssmtv3\"><p class=\"n_1jv8115-o_O-Content_1xn1r0f-o_O-c0f2346_4s8r2l-o_O-text_7y41qf-o_O-item_9xo99e\">Stardew Valley</p><p class=\"n_1jv8115-o_O-Small_7u8o3i-o_O-c8790a2_1bcd4jz-o_O-item_9xo99e\">Chucklefish Limited</p></div>, <div class=\"textContainer_ssmtv3\"><p class=\"n_1jv8115-o_O-Content_1xn1r0f-o_O-c0f2346_4s8r2l-o_O-text_7y41qf-o_O-item_9xo99e\">Terraria</p><p class=\"n_1jv8115-o_O-Small_7u8o3i-o_O-c8790a2_1bcd4jz-o_O-item_9xo99e\">505 Games Srl</p></div>, <div class=\"textContainer_ssmtv3\"><p class=\"n_1jv8115-o_O-Content_1xn1r0f-o_O-c0f2346_4s8r2l-o_O-text_7y41qf-o_O-item_9xo99e\">CryptoTab Browser Pro—Mine on a PRO level</p><p class=\"n_1jv8115-o_O-Small_7u8o3i-o_O-c8790a2_1bcd4jz-o_O-item_9xo99e\">CryptoCompany OU</p></div>, <div class=\"textContainer_ssmtv3\"><p class=\"n_1jv8115-o_O-Content_1xn1r0f-o_O-c0f2346_4s8r2l-o_O-text_7y41qf-o_O-item_9xo99e\">Grand Theft Auto: San Andreas</p><p class=\"n_1jv8115-o_O-Small_7u8o3i-o_O-c8790a2_1bcd4jz-o_O-item_9xo99e\">Rockstar Games</p></div>, <div class=\"textContainer_ssmtv3\"><p class=\"n_1jv8115-o_O-Content_1xn1r0f-o_O-c0f2346_4s8r2l-o_O-text_7y41qf-o_O-item_9xo99e\">Five Nights at Freddy's</p><p class=\"n_1jv8115-o_O-Small_7u8o3i-o_O-c8790a2_1bcd4jz-o_O-item_9xo99e\">Clickteam USA LLC</p></div>, <div class=\"textContainer_ssmtv3\"><p class=\"n_1jv8115-o_O-Content_1xn1r0f-o_O-c0f2346_4s8r2l-o_O-text_7y41qf-o_O-item_9xo99e\">Ultimate Custom Night</p><p class=\"n_1jv8115-o_O-Small_7u8o3i-o_O-c8790a2_1bcd4jz-o_O-item_9xo99e\">Clickteam USA LLC</p></div>, <div class=\"textContainer_ssmtv3\"><p class=\"n_1jv8115-o_O-Content_1xn1r0f-o_O-c0f2346_4s8r2l-o_O-text_7y41qf-o_O-item_9xo99e\">DraStic DS Emulator</p><p class=\"n_1jv8115-o_O-Small_7u8o3i-o_O-c8790a2_1bcd4jz-o_O-item_9xo99e\">Exophase</p></div>, <div class=\"textContainer_ssmtv3\"><p class=\"n_1jv8115-o_O-Content_1xn1r0f-o_O-c0f2346_4s8r2l-o_O-text_7y41qf-o_O-item_9xo99e\">The Room</p><p class=\"n_1jv8115-o_O-Small_7u8o3i-o_O-c8790a2_1bcd4jz-o_O-item_9xo99e\">Fireproof Games</p></div>, <div class=\"textContainer_ssmtv3\"><p class=\"n_1jv8115-o_O-Content_1xn1r0f-o_O-c0f2346_4s8r2l-o_O-text_7y41qf-o_O-item_9xo99e\">Navigation Pro: Google Maps Navi on Samsung Watch</p><p class=\"n_1jv8115-o_O-Small_7u8o3i-o_O-c8790a2_1bcd4jz-o_O-item_9xo99e\">Smartwatch Studios</p></div>, <div class=\"textContainer_ssmtv3\"><p class=\"n_1jv8115-o_O-Content_1xn1r0f-o_O-c0f2346_4s8r2l-o_O-text_7y41qf-o_O-item_9xo99e\">THE GAME OF LIFE 2 - More choices, more freedom!</p><p class=\"n_1jv8115-o_O-Small_7u8o3i-o_O-c8790a2_1bcd4jz-o_O-item_9xo99e\">Marmalade Game Studio</p></div>, <div class=\"textContainer_ssmtv3\"><p class=\"n_1jv8115-o_O-Content_1xn1r0f-o_O-c0f2346_4s8r2l-o_O-text_7y41qf-o_O-item_9xo99e\">Torque Pro (OBD 2 &amp; Car)</p><p class=\"n_1jv8115-o_O-Small_7u8o3i-o_O-c8790a2_1bcd4jz-o_O-item_9xo99e\">Ian Hawkins</p></div>, <div class=\"textContainer_ssmtv3\"><p class=\"n_1jv8115-o_O-Content_1xn1r0f-o_O-c0f2346_4s8r2l-o_O-text_7y41qf-o_O-item_9xo99e\">Grand Theft Auto: Vice City</p><p class=\"n_1jv8115-o_O-Small_7u8o3i-o_O-c8790a2_1bcd4jz-o_O-item_9xo99e\">Rockstar Games</p></div>, <div class=\"textContainer_ssmtv3\"><p class=\"n_1jv8115-o_O-Content_1xn1r0f-o_O-c0f2346_4s8r2l-o_O-text_7y41qf-o_O-item_9xo99e\">Ultimate Ghost Detector (real EMF, EVP recorder)</p><p class=\"n_1jv8115-o_O-Small_7u8o3i-o_O-c8790a2_1bcd4jz-o_O-item_9xo99e\">MRE Programming</p></div>, <div class=\"textContainer_ssmtv3\"><p class=\"n_1jv8115-o_O-Content_1xn1r0f-o_O-c0f2346_4s8r2l-o_O-text_7y41qf-o_O-item_9xo99e\">Bloons TD 5</p><p class=\"n_1jv8115-o_O-Small_7u8o3i-o_O-c8790a2_1bcd4jz-o_O-item_9xo99e\">ninja kiwi</p></div>, <div class=\"textContainer_ssmtv3\"><p class=\"n_1jv8115-o_O-Content_1xn1r0f-o_O-c0f2346_4s8r2l-o_O-text_7y41qf-o_O-item_9xo99e\">My Boy! - GBA Emulator</p><p class=\"n_1jv8115-o_O-Small_7u8o3i-o_O-c8790a2_1bcd4jz-o_O-item_9xo99e\">Fast Emulator</p></div>, <div class=\"textContainer_ssmtv3\"><p class=\"n_1jv8115-o_O-Content_1xn1r0f-o_O-c0f2346_4s8r2l-o_O-text_7y41qf-o_O-item_9xo99e\">Slay the Spire</p><p class=\"n_1jv8115-o_O-Small_7u8o3i-o_O-c8790a2_1bcd4jz-o_O-item_9xo99e\">Humble Games</p></div>, <div class=\"textContainer_ssmtv3\"><p class=\"n_1jv8115-o_O-Content_1xn1r0f-o_O-c0f2346_4s8r2l-o_O-text_7y41qf-o_O-item_9xo99e\">Scanner Radio Pro - Fire and Police Scanner</p><p class=\"n_1jv8115-o_O-Small_7u8o3i-o_O-c8790a2_1bcd4jz-o_O-item_9xo99e\">GordonEdwards.net LLC</p></div>, <div class=\"textContainer_ssmtv3\"><p class=\"n_1jv8115-o_O-Content_1xn1r0f-o_O-c0f2346_4s8r2l-o_O-text_7y41qf-o_O-item_9xo99e\">RFS - Real Flight Simulator</p><p class=\"n_1jv8115-o_O-Small_7u8o3i-o_O-c8790a2_1bcd4jz-o_O-item_9xo99e\">RORTOS</p></div>, <div class=\"textContainer_ssmtv3\"><p class=\"n_1jv8115-o_O-Content_1xn1r0f-o_O-c0f2346_4s8r2l-o_O-text_7y41qf-o_O-item_9xo99e\">Dungeon Village 2</p><p class=\"n_1jv8115-o_O-Small_7u8o3i-o_O-c8790a2_1bcd4jz-o_O-item_9xo99e\">Kairosoft Co.,Ltd</p></div>, <div class=\"textContainer_ssmtv3\"><p class=\"n_1jv8115-o_O-Content_1xn1r0f-o_O-c0f2346_4s8r2l-o_O-text_7y41qf-o_O-item_9xo99e\">Five Nights at Freddy's 2</p><p class=\"n_1jv8115-o_O-Small_7u8o3i-o_O-c8790a2_1bcd4jz-o_O-item_9xo99e\">Clickteam USA LLC</p></div>, <div class=\"textContainer_ssmtv3\"><p class=\"n_1jv8115-o_O-Content_1xn1r0f-o_O-c0f2346_4s8r2l-o_O-text_7y41qf-o_O-item_9xo99e\">The Wonder Weeks</p><p class=\"n_1jv8115-o_O-Small_7u8o3i-o_O-c8790a2_1bcd4jz-o_O-item_9xo99e\">Domus Technica</p></div>, <div class=\"textContainer_ssmtv3\"><p class=\"n_1jv8115-o_O-Content_1xn1r0f-o_O-c0f2346_4s8r2l-o_O-text_7y41qf-o_O-item_9xo99e\">True Skate</p><p class=\"n_1jv8115-o_O-Small_7u8o3i-o_O-c8790a2_1bcd4jz-o_O-item_9xo99e\">True Axis</p></div>, <div class=\"textContainer_ssmtv3\"><p class=\"n_1jv8115-o_O-Content_1xn1r0f-o_O-c0f2346_4s8r2l-o_O-text_7y41qf-o_O-item_9xo99e\">Assassin's Creed Identity</p><p class=\"n_1jv8115-o_O-Small_7u8o3i-o_O-c8790a2_1bcd4jz-o_O-item_9xo99e\">Ubisoft Entertainment</p></div>, <div class=\"textContainer_ssmtv3\"><p class=\"n_1jv8115-o_O-Content_1xn1r0f-o_O-c0f2346_4s8r2l-o_O-text_7y41qf-o_O-item_9xo99e\">Getting Over It with Bennett Foddy</p><p class=\"n_1jv8115-o_O-Small_7u8o3i-o_O-c8790a2_1bcd4jz-o_O-item_9xo99e\">Noodlecake Studios Inc</p></div>, <div class=\"textContainer_ssmtv3\"><p class=\"n_1jv8115-o_O-Content_1xn1r0f-o_O-c0f2346_4s8r2l-o_O-text_7y41qf-o_O-item_9xo99e\">ePSXe for Android</p><p class=\"n_1jv8115-o_O-Small_7u8o3i-o_O-c8790a2_1bcd4jz-o_O-item_9xo99e\">epsxe software s.l.</p></div>, <div class=\"textContainer_ssmtv3\"><p class=\"n_1jv8115-o_O-Content_1xn1r0f-o_O-c0f2346_4s8r2l-o_O-text_7y41qf-o_O-item_9xo99e\">75 Hard</p><p class=\"n_1jv8115-o_O-Small_7u8o3i-o_O-c8790a2_1bcd4jz-o_O-item_9xo99e\">44Seven Media</p></div>, <div class=\"textContainer_ssmtv3\"><p class=\"n_1jv8115-o_O-Content_1xn1r0f-o_O-c0f2346_4s8r2l-o_O-text_7y41qf-o_O-item_9xo99e\">Human: Fall Flat</p><p class=\"n_1jv8115-o_O-Small_7u8o3i-o_O-c8790a2_1bcd4jz-o_O-item_9xo99e\">505 Games Srl</p></div>, <div class=\"textContainer_ssmtv3\"><p class=\"n_1jv8115-o_O-Content_1xn1r0f-o_O-c0f2346_4s8r2l-o_O-text_7y41qf-o_O-item_9xo99e\">Five Nights at Freddy's: SL</p><p class=\"n_1jv8115-o_O-Small_7u8o3i-o_O-c8790a2_1bcd4jz-o_O-item_9xo99e\">Clickteam USA LLC</p></div>, <div class=\"textContainer_ssmtv3\"><p class=\"n_1jv8115-o_O-Content_1xn1r0f-o_O-c0f2346_4s8r2l-o_O-text_7y41qf-o_O-item_9xo99e\">Hitman Sniper</p><p class=\"n_1jv8115-o_O-Small_7u8o3i-o_O-c8790a2_1bcd4jz-o_O-item_9xo99e\">SQUARE ENIX LTD</p></div>, <div class=\"textContainer_ssmtv3\"><p class=\"n_1jv8115-o_O-Content_1xn1r0f-o_O-c0f2346_4s8r2l-o_O-text_7y41qf-o_O-item_9xo99e\">FNaF 6: Pizzeria Simulator</p><p class=\"n_1jv8115-o_O-Small_7u8o3i-o_O-c8790a2_1bcd4jz-o_O-item_9xo99e\">Clickteam USA LLC</p></div>, <div class=\"textContainer_ssmtv3\"><p class=\"n_1jv8115-o_O-Content_1xn1r0f-o_O-c0f2346_4s8r2l-o_O-text_7y41qf-o_O-item_9xo99e\">Five Nights at Freddy's 4</p><p class=\"n_1jv8115-o_O-Small_7u8o3i-o_O-c8790a2_1bcd4jz-o_O-item_9xo99e\">Clickteam USA LLC</p></div>, <div class=\"textContainer_ssmtv3\"><p class=\"n_1jv8115-o_O-Content_1xn1r0f-o_O-c0f2346_4s8r2l-o_O-text_7y41qf-o_O-item_9xo99e\">Nova Launcher Prime</p><p class=\"n_1jv8115-o_O-Small_7u8o3i-o_O-c8790a2_1bcd4jz-o_O-item_9xo99e\">TeslaCoil Software</p></div>, <div class=\"textContainer_ssmtv3\"><p class=\"n_1jv8115-o_O-Content_1xn1r0f-o_O-c0f2346_4s8r2l-o_O-text_7y41qf-o_O-item_9xo99e\">FL Studio Mobile</p><p class=\"n_1jv8115-o_O-Small_7u8o3i-o_O-c8790a2_1bcd4jz-o_O-item_9xo99e\">Image-Line</p></div>, <div class=\"textContainer_ssmtv3\"><p class=\"n_1jv8115-o_O-Content_1xn1r0f-o_O-c0f2346_4s8r2l-o_O-text_7y41qf-o_O-item_9xo99e\">Call of Duty:Black Ops Zombies</p><p class=\"n_1jv8115-o_O-Small_7u8o3i-o_O-c8790a2_1bcd4jz-o_O-item_9xo99e\">Activision Publishing, Inc.</p></div>, <div class=\"textContainer_ssmtv3\"><p class=\"n_1jv8115-o_O-Content_1xn1r0f-o_O-c0f2346_4s8r2l-o_O-text_7y41qf-o_O-item_9xo99e\">Toca Life: Hospital</p><p class=\"n_1jv8115-o_O-Small_7u8o3i-o_O-c8790a2_1bcd4jz-o_O-item_9xo99e\">Toca Boca</p></div>, <div class=\"textContainer_ssmtv3\"><p class=\"n_1jv8115-o_O-Content_1xn1r0f-o_O-c0f2346_4s8r2l-o_O-text_7y41qf-o_O-item_9xo99e\">Dead Cells</p><p class=\"n_1jv8115-o_O-Small_7u8o3i-o_O-c8790a2_1bcd4jz-o_O-item_9xo99e\">Playdigious</p></div>, <div class=\"textContainer_ssmtv3\"><p class=\"n_1jv8115-o_O-Content_1xn1r0f-o_O-c0f2346_4s8r2l-o_O-text_7y41qf-o_O-item_9xo99e\">Burger Bistro Story</p><p class=\"n_1jv8115-o_O-Small_7u8o3i-o_O-c8790a2_1bcd4jz-o_O-item_9xo99e\">Kairosoft Co.,Ltd</p></div>, <div class=\"textContainer_ssmtv3\"><p class=\"n_1jv8115-o_O-Content_1xn1r0f-o_O-c0f2346_4s8r2l-o_O-text_7y41qf-o_O-item_9xo99e\">The Game of Life</p><p class=\"n_1jv8115-o_O-Small_7u8o3i-o_O-c8790a2_1bcd4jz-o_O-item_9xo99e\">Marmalade Game Studio</p></div>, <div class=\"textContainer_ssmtv3\"><p class=\"n_1jv8115-o_O-Content_1xn1r0f-o_O-c0f2346_4s8r2l-o_O-text_7y41qf-o_O-item_9xo99e\">Necrophonic</p><p class=\"n_1jv8115-o_O-Small_7u8o3i-o_O-c8790a2_1bcd4jz-o_O-item_9xo99e\">ChillSeekers</p></div>, <div class=\"textContainer_ssmtv3\"><p class=\"n_1jv8115-o_O-Content_1xn1r0f-o_O-c0f2346_4s8r2l-o_O-text_7y41qf-o_O-item_9xo99e\">The Room Two</p><p class=\"n_1jv8115-o_O-Small_7u8o3i-o_O-c8790a2_1bcd4jz-o_O-item_9xo99e\">Fireproof Games</p></div>, <div class=\"textContainer_ssmtv3\"><p class=\"n_1jv8115-o_O-Content_1xn1r0f-o_O-c0f2346_4s8r2l-o_O-text_7y41qf-o_O-item_9xo99e\">Incredibox</p><p class=\"n_1jv8115-o_O-Small_7u8o3i-o_O-c8790a2_1bcd4jz-o_O-item_9xo99e\">So Far So Good</p></div>, <div class=\"textContainer_ssmtv3\"><p class=\"n_1jv8115-o_O-Content_1xn1r0f-o_O-c0f2346_4s8r2l-o_O-text_7y41qf-o_O-item_9xo99e\">Farming Simulator 20</p><p class=\"n_1jv8115-o_O-Small_7u8o3i-o_O-c8790a2_1bcd4jz-o_O-item_9xo99e\">GIANTS Software</p></div>, <div class=\"textContainer_ssmtv3\"><p class=\"n_1jv8115-o_O-Content_1xn1r0f-o_O-c0f2346_4s8r2l-o_O-text_7y41qf-o_O-item_9xo99e\">A Dance of Fire and Ice</p><p class=\"n_1jv8115-o_O-Small_7u8o3i-o_O-c8790a2_1bcd4jz-o_O-item_9xo99e\">7th Beat Games</p></div>, <div class=\"textContainer_ssmtv3\"><p class=\"n_1jv8115-o_O-Content_1xn1r0f-o_O-c0f2346_4s8r2l-o_O-text_7y41qf-o_O-item_9xo99e\">Poweramp Full Version Unlocker</p><p class=\"n_1jv8115-o_O-Small_7u8o3i-o_O-c8790a2_1bcd4jz-o_O-item_9xo99e\">Max MP</p></div>, <div class=\"textContainer_ssmtv3\"><p class=\"n_1jv8115-o_O-Content_1xn1r0f-o_O-c0f2346_4s8r2l-o_O-text_7y41qf-o_O-item_9xo99e\">Garena Free Fire- World Series</p><p class=\"n_1jv8115-o_O-Small_7u8o3i-o_O-c8790a2_1bcd4jz-o_O-item_9xo99e\">GARENA INTERNATIONAL I PRIVATE LIMITED</p></div>, <div class=\"textContainer_ssmtv3\"><p class=\"n_1jv8115-o_O-Content_1xn1r0f-o_O-c0f2346_4s8r2l-o_O-text_7y41qf-o_O-item_9xo99e\">Google One</p><p class=\"n_1jv8115-o_O-Small_7u8o3i-o_O-c8790a2_1bcd4jz-o_O-item_9xo99e\">Google LLC</p></div>, <div class=\"textContainer_ssmtv3\"><p class=\"n_1jv8115-o_O-Content_1xn1r0f-o_O-c0f2346_4s8r2l-o_O-text_7y41qf-o_O-item_9xo99e\">Candy Crush Saga</p><p class=\"n_1jv8115-o_O-Small_7u8o3i-o_O-c8790a2_1bcd4jz-o_O-item_9xo99e\">King</p></div>, <div class=\"textContainer_ssmtv3\"><p class=\"n_1jv8115-o_O-Content_1xn1r0f-o_O-c0f2346_4s8r2l-o_O-text_7y41qf-o_O-item_9xo99e\">Coin Master</p><p class=\"n_1jv8115-o_O-Small_7u8o3i-o_O-c8790a2_1bcd4jz-o_O-item_9xo99e\">Moon Active</p></div>, <div class=\"textContainer_ssmtv3\"><p class=\"n_1jv8115-o_O-Content_1xn1r0f-o_O-c0f2346_4s8r2l-o_O-text_7y41qf-o_O-item_9xo99e\">Roblox</p><p class=\"n_1jv8115-o_O-Small_7u8o3i-o_O-c8790a2_1bcd4jz-o_O-item_9xo99e\">Roblox Corporation</p></div>, <div class=\"textContainer_ssmtv3\"><p class=\"n_1jv8115-o_O-Content_1xn1r0f-o_O-c0f2346_4s8r2l-o_O-text_7y41qf-o_O-item_9xo99e\">Pokémon GO</p><p class=\"n_1jv8115-o_O-Small_7u8o3i-o_O-c8790a2_1bcd4jz-o_O-item_9xo99e\">Niantic, Inc.</p></div>, <div class=\"textContainer_ssmtv3\"><p class=\"n_1jv8115-o_O-Content_1xn1r0f-o_O-c0f2346_4s8r2l-o_O-text_7y41qf-o_O-item_9xo99e\">HBO Max: Stream and Watch TV, Movies, and More</p><p class=\"n_1jv8115-o_O-Small_7u8o3i-o_O-c8790a2_1bcd4jz-o_O-item_9xo99e\">WarnerMedia Global Digital Services, LLC</p></div>, <div class=\"textContainer_ssmtv3\"><p class=\"n_1jv8115-o_O-Content_1xn1r0f-o_O-c0f2346_4s8r2l-o_O-text_7y41qf-o_O-item_9xo99e\">Pandora - Streaming Music, Radio &amp; Podcasts</p><p class=\"n_1jv8115-o_O-Small_7u8o3i-o_O-c8790a2_1bcd4jz-o_O-item_9xo99e\">Pandora</p></div>, <div class=\"textContainer_ssmtv3\"><p class=\"n_1jv8115-o_O-Content_1xn1r0f-o_O-c0f2346_4s8r2l-o_O-text_7y41qf-o_O-item_9xo99e\">Twitch: Livestream Multiplayer Games &amp; Esports</p><p class=\"n_1jv8115-o_O-Small_7u8o3i-o_O-c8790a2_1bcd4jz-o_O-item_9xo99e\">Twitch Interactive, Inc.</p></div>, <div class=\"textContainer_ssmtv3\"><p class=\"n_1jv8115-o_O-Content_1xn1r0f-o_O-c0f2346_4s8r2l-o_O-text_7y41qf-o_O-item_9xo99e\">Homescapes</p><p class=\"n_1jv8115-o_O-Small_7u8o3i-o_O-c8790a2_1bcd4jz-o_O-item_9xo99e\">Playrix</p></div>, <div class=\"textContainer_ssmtv3\"><p class=\"n_1jv8115-o_O-Content_1xn1r0f-o_O-c0f2346_4s8r2l-o_O-text_7y41qf-o_O-item_9xo99e\">Township</p><p class=\"n_1jv8115-o_O-Small_7u8o3i-o_O-c8790a2_1bcd4jz-o_O-item_9xo99e\">Playrix</p></div>, <div class=\"textContainer_ssmtv3\"><p class=\"n_1jv8115-o_O-Content_1xn1r0f-o_O-c0f2346_4s8r2l-o_O-text_7y41qf-o_O-item_9xo99e\">Disney+</p><p class=\"n_1jv8115-o_O-Small_7u8o3i-o_O-c8790a2_1bcd4jz-o_O-item_9xo99e\">Disney</p></div>, <div class=\"textContainer_ssmtv3\"><p class=\"n_1jv8115-o_O-Content_1xn1r0f-o_O-c0f2346_4s8r2l-o_O-text_7y41qf-o_O-item_9xo99e\">State of Survival: The Walking Dead Collaboration</p><p class=\"n_1jv8115-o_O-Small_7u8o3i-o_O-c8790a2_1bcd4jz-o_O-item_9xo99e\">KingsGroup Holdings</p></div>, <div class=\"textContainer_ssmtv3\"><p class=\"n_1jv8115-o_O-Content_1xn1r0f-o_O-c0f2346_4s8r2l-o_O-text_7y41qf-o_O-item_9xo99e\">Bingo Blitz™️ - Bingo Games</p><p class=\"n_1jv8115-o_O-Small_7u8o3i-o_O-c8790a2_1bcd4jz-o_O-item_9xo99e\">Playtika Santa Monica</p></div>, <div class=\"textContainer_ssmtv3\"><p class=\"n_1jv8115-o_O-Content_1xn1r0f-o_O-c0f2346_4s8r2l-o_O-text_7y41qf-o_O-item_9xo99e\">RAID: Shadow Legends</p><p class=\"n_1jv8115-o_O-Small_7u8o3i-o_O-c8790a2_1bcd4jz-o_O-item_9xo99e\">Plarium Global Ltd</p></div>, <div class=\"textContainer_ssmtv3\"><p class=\"n_1jv8115-o_O-Content_1xn1r0f-o_O-c0f2346_4s8r2l-o_O-text_7y41qf-o_O-item_9xo99e\">Lords Mobile: Kingdom Wars</p><p class=\"n_1jv8115-o_O-Small_7u8o3i-o_O-c8790a2_1bcd4jz-o_O-item_9xo99e\">IGG.COM</p></div>, <div class=\"textContainer_ssmtv3\"><p class=\"n_1jv8115-o_O-Content_1xn1r0f-o_O-c0f2346_4s8r2l-o_O-text_7y41qf-o_O-item_9xo99e\">Candy Crush Soda Saga</p><p class=\"n_1jv8115-o_O-Small_7u8o3i-o_O-c8790a2_1bcd4jz-o_O-item_9xo99e\">King</p></div>, <div class=\"textContainer_ssmtv3\"><p class=\"n_1jv8115-o_O-Content_1xn1r0f-o_O-c0f2346_4s8r2l-o_O-text_7y41qf-o_O-item_9xo99e\">Fishdom</p><p class=\"n_1jv8115-o_O-Small_7u8o3i-o_O-c8790a2_1bcd4jz-o_O-item_9xo99e\">Playrix</p></div>, <div class=\"textContainer_ssmtv3\"><p class=\"n_1jv8115-o_O-Content_1xn1r0f-o_O-c0f2346_4s8r2l-o_O-text_7y41qf-o_O-item_9xo99e\">Gardenscapes</p><p class=\"n_1jv8115-o_O-Small_7u8o3i-o_O-c8790a2_1bcd4jz-o_O-item_9xo99e\">Playrix</p></div>, <div class=\"textContainer_ssmtv3\"><p class=\"n_1jv8115-o_O-Content_1xn1r0f-o_O-c0f2346_4s8r2l-o_O-text_7y41qf-o_O-item_9xo99e\">Star Trek™ Fleet Command</p><p class=\"n_1jv8115-o_O-Small_7u8o3i-o_O-c8790a2_1bcd4jz-o_O-item_9xo99e\">Scopely</p></div>, <div class=\"textContainer_ssmtv3\"><p class=\"n_1jv8115-o_O-Content_1xn1r0f-o_O-c0f2346_4s8r2l-o_O-text_7y41qf-o_O-item_9xo99e\">MARVEL Strike Force - Squad RPG</p><p class=\"n_1jv8115-o_O-Small_7u8o3i-o_O-c8790a2_1bcd4jz-o_O-item_9xo99e\">Scopely</p></div>, <div class=\"textContainer_ssmtv3\"><p class=\"n_1jv8115-o_O-Content_1xn1r0f-o_O-c0f2346_4s8r2l-o_O-text_7y41qf-o_O-item_9xo99e\">Slotomania™ Slots: Casino Slot Machine Games</p><p class=\"n_1jv8115-o_O-Small_7u8o3i-o_O-c8790a2_1bcd4jz-o_O-item_9xo99e\">Playtika</p></div>, <div class=\"textContainer_ssmtv3\"><p class=\"n_1jv8115-o_O-Content_1xn1r0f-o_O-c0f2346_4s8r2l-o_O-text_7y41qf-o_O-item_9xo99e\">Call of Duty®: Mobile - Tokyo Escape</p><p class=\"n_1jv8115-o_O-Small_7u8o3i-o_O-c8790a2_1bcd4jz-o_O-item_9xo99e\">Activision Publishing, Inc.</p></div>, <div class=\"textContainer_ssmtv3\"><p class=\"n_1jv8115-o_O-Content_1xn1r0f-o_O-c0f2346_4s8r2l-o_O-text_7y41qf-o_O-item_9xo99e\">Toon Blast</p><p class=\"n_1jv8115-o_O-Small_7u8o3i-o_O-c8790a2_1bcd4jz-o_O-item_9xo99e\">Peak</p></div>, <div class=\"textContainer_ssmtv3\"><p class=\"n_1jv8115-o_O-Content_1xn1r0f-o_O-c0f2346_4s8r2l-o_O-text_7y41qf-o_O-item_9xo99e\">Project Makeover</p><p class=\"n_1jv8115-o_O-Small_7u8o3i-o_O-c8790a2_1bcd4jz-o_O-item_9xo99e\">Magic Tavern, Inc.</p></div>, <div class=\"textContainer_ssmtv3\"><p class=\"n_1jv8115-o_O-Content_1xn1r0f-o_O-c0f2346_4s8r2l-o_O-text_7y41qf-o_O-item_9xo99e\">Last Shelter: Survival</p><p class=\"n_1jv8115-o_O-Small_7u8o3i-o_O-c8790a2_1bcd4jz-o_O-item_9xo99e\">Long Tech Network Limited</p></div>, <div class=\"textContainer_ssmtv3\"><p class=\"n_1jv8115-o_O-Content_1xn1r0f-o_O-c0f2346_4s8r2l-o_O-text_7y41qf-o_O-item_9xo99e\">Rise of Kingdoms: Lost Crusade</p><p class=\"n_1jv8115-o_O-Small_7u8o3i-o_O-c8790a2_1bcd4jz-o_O-item_9xo99e\">LilithGames</p></div>, <div class=\"textContainer_ssmtv3\"><p class=\"n_1jv8115-o_O-Content_1xn1r0f-o_O-c0f2346_4s8r2l-o_O-text_7y41qf-o_O-item_9xo99e\">PUBG MOBILE - Traverse</p><p class=\"n_1jv8115-o_O-Small_7u8o3i-o_O-c8790a2_1bcd4jz-o_O-item_9xo99e\">Tencent Games</p></div>, <div class=\"textContainer_ssmtv3\"><p class=\"n_1jv8115-o_O-Content_1xn1r0f-o_O-c0f2346_4s8r2l-o_O-text_7y41qf-o_O-item_9xo99e\">Jackpot Party Casino Games: Spin FREE Casino Slots</p><p class=\"n_1jv8115-o_O-Small_7u8o3i-o_O-c8790a2_1bcd4jz-o_O-item_9xo99e\">SciPlay</p></div>, <div class=\"textContainer_ssmtv3\"><p class=\"n_1jv8115-o_O-Content_1xn1r0f-o_O-c0f2346_4s8r2l-o_O-text_7y41qf-o_O-item_9xo99e\">Top War: Battle Game</p><p class=\"n_1jv8115-o_O-Small_7u8o3i-o_O-c8790a2_1bcd4jz-o_O-item_9xo99e\">Topwar Studio</p></div>, <div class=\"textContainer_ssmtv3\"><p class=\"n_1jv8115-o_O-Content_1xn1r0f-o_O-c0f2346_4s8r2l-o_O-text_7y41qf-o_O-item_9xo99e\">Empires &amp; Puzzles: Epic Match 3</p><p class=\"n_1jv8115-o_O-Small_7u8o3i-o_O-c8790a2_1bcd4jz-o_O-item_9xo99e\">Small Giant Games</p></div>, <div class=\"textContainer_ssmtv3\"><p class=\"n_1jv8115-o_O-Content_1xn1r0f-o_O-c0f2346_4s8r2l-o_O-text_7y41qf-o_O-item_9xo99e\">Cash Frenzy™ Casino – Free Slots Games</p><p class=\"n_1jv8115-o_O-Small_7u8o3i-o_O-c8790a2_1bcd4jz-o_O-item_9xo99e\">SpinX Games Limited</p></div>, <div class=\"textContainer_ssmtv3\"><p class=\"n_1jv8115-o_O-Content_1xn1r0f-o_O-c0f2346_4s8r2l-o_O-text_7y41qf-o_O-item_9xo99e\">Clash of Clans</p><p class=\"n_1jv8115-o_O-Small_7u8o3i-o_O-c8790a2_1bcd4jz-o_O-item_9xo99e\">Supercell</p></div>, <div class=\"textContainer_ssmtv3\"><p class=\"n_1jv8115-o_O-Content_1xn1r0f-o_O-c0f2346_4s8r2l-o_O-text_7y41qf-o_O-item_9xo99e\">Merge Dragons!</p><p class=\"n_1jv8115-o_O-Small_7u8o3i-o_O-c8790a2_1bcd4jz-o_O-item_9xo99e\">Gram Games Limited</p></div>, <div class=\"textContainer_ssmtv3\"><p class=\"n_1jv8115-o_O-Content_1xn1r0f-o_O-c0f2346_4s8r2l-o_O-text_7y41qf-o_O-item_9xo99e\">Hero Wars – Hero Fantasy Multiplayer Battles</p><p class=\"n_1jv8115-o_O-Small_7u8o3i-o_O-c8790a2_1bcd4jz-o_O-item_9xo99e\">NEXTERS GLOBAL LTD</p></div>, <div class=\"textContainer_ssmtv3\"><p class=\"n_1jv8115-o_O-Content_1xn1r0f-o_O-c0f2346_4s8r2l-o_O-text_7y41qf-o_O-item_9xo99e\">Golf Clash</p><p class=\"n_1jv8115-o_O-Small_7u8o3i-o_O-c8790a2_1bcd4jz-o_O-item_9xo99e\">Playdemic</p></div>, <div class=\"textContainer_ssmtv3\"><p class=\"n_1jv8115-o_O-Content_1xn1r0f-o_O-c0f2346_4s8r2l-o_O-text_7y41qf-o_O-item_9xo99e\">Solitaire TriPeaks: Play Free Solitaire Card Games</p><p class=\"n_1jv8115-o_O-Small_7u8o3i-o_O-c8790a2_1bcd4jz-o_O-item_9xo99e\">GSN Games, Inc.</p></div>, <div class=\"textContainer_ssmtv3\"><p class=\"n_1jv8115-o_O-Content_1xn1r0f-o_O-c0f2346_4s8r2l-o_O-text_7y41qf-o_O-item_9xo99e\">DAZN: Live Sports Streaming</p><p class=\"n_1jv8115-o_O-Small_7u8o3i-o_O-c8790a2_1bcd4jz-o_O-item_9xo99e\">DAZN</p></div>, <div class=\"textContainer_ssmtv3\"><p class=\"n_1jv8115-o_O-Content_1xn1r0f-o_O-c0f2346_4s8r2l-o_O-text_7y41qf-o_O-item_9xo99e\">The Seven Deadly Sins: Grand Cross</p><p class=\"n_1jv8115-o_O-Small_7u8o3i-o_O-c8790a2_1bcd4jz-o_O-item_9xo99e\">Netmarble</p></div>, <div class=\"textContainer_ssmtv3\"><p class=\"n_1jv8115-o_O-Content_1xn1r0f-o_O-c0f2346_4s8r2l-o_O-text_7y41qf-o_O-item_9xo99e\">Tinder - Dating, Make Friends and Meet New People</p><p class=\"n_1jv8115-o_O-Small_7u8o3i-o_O-c8790a2_1bcd4jz-o_O-item_9xo99e\">Tinder</p></div>, <div class=\"textContainer_ssmtv3\"><p class=\"n_1jv8115-o_O-Content_1xn1r0f-o_O-c0f2346_4s8r2l-o_O-text_7y41qf-o_O-item_9xo99e\">Cashman Casino: Casino Slots Machines! 2M Free!</p><p class=\"n_1jv8115-o_O-Small_7u8o3i-o_O-c8790a2_1bcd4jz-o_O-item_9xo99e\">Product Madness</p></div>, <div class=\"textContainer_ssmtv3\"><p class=\"n_1jv8115-o_O-Content_1xn1r0f-o_O-c0f2346_4s8r2l-o_O-text_7y41qf-o_O-item_9xo99e\">POP! Slots ™- Free Vegas Casino Slot Machine Games</p><p class=\"n_1jv8115-o_O-Small_7u8o3i-o_O-c8790a2_1bcd4jz-o_O-item_9xo99e\">PLAYSTUDIOS INC</p></div>, <div class=\"textContainer_ssmtv3\"><p class=\"n_1jv8115-o_O-Content_1xn1r0f-o_O-c0f2346_4s8r2l-o_O-text_7y41qf-o_O-item_9xo99e\">Genshin Impact</p><p class=\"n_1jv8115-o_O-Small_7u8o3i-o_O-c8790a2_1bcd4jz-o_O-item_9xo99e\">miHoYo Limited</p></div>, <div class=\"textContainer_ssmtv3\"><p class=\"n_1jv8115-o_O-Content_1xn1r0f-o_O-c0f2346_4s8r2l-o_O-text_7y41qf-o_O-item_9xo99e\">Puzzles &amp; Survival</p><p class=\"n_1jv8115-o_O-Small_7u8o3i-o_O-c8790a2_1bcd4jz-o_O-item_9xo99e\">37GAMES</p></div>, <div class=\"textContainer_ssmtv3\"><p class=\"n_1jv8115-o_O-Content_1xn1r0f-o_O-c0f2346_4s8r2l-o_O-text_7y41qf-o_O-item_9xo99e\">Solitaire Grand Harvest - Free Solitaire Tripeaks</p><p class=\"n_1jv8115-o_O-Small_7u8o3i-o_O-c8790a2_1bcd4jz-o_O-item_9xo99e\">Supertreat - A Playtika Studio</p></div>, <div class=\"textContainer_ssmtv3\"><p class=\"n_1jv8115-o_O-Content_1xn1r0f-o_O-c0f2346_4s8r2l-o_O-text_7y41qf-o_O-item_9xo99e\">Huuuge Casino™ Free Slots &amp; Best Slot Machines 777</p><p class=\"n_1jv8115-o_O-Small_7u8o3i-o_O-c8790a2_1bcd4jz-o_O-item_9xo99e\">Huuuge Games - Play Together</p></div>, <div class=\"textContainer_ssmtv3\"><p class=\"n_1jv8115-o_O-Content_1xn1r0f-o_O-c0f2346_4s8r2l-o_O-text_7y41qf-o_O-item_9xo99e\">Vegas Slots - DoubleDown Casino</p><p class=\"n_1jv8115-o_O-Small_7u8o3i-o_O-c8790a2_1bcd4jz-o_O-item_9xo99e\">Double Down Interactive LLC</p></div>, <div class=\"textContainer_ssmtv3\"><p class=\"n_1jv8115-o_O-Content_1xn1r0f-o_O-c0f2346_4s8r2l-o_O-text_7y41qf-o_O-item_9xo99e\">Lotsa Slots - Free Vegas Casino Slot Machines</p><p class=\"n_1jv8115-o_O-Small_7u8o3i-o_O-c8790a2_1bcd4jz-o_O-item_9xo99e\">SpinX Games Limited</p></div>, <div class=\"textContainer_ssmtv3\"><p class=\"n_1jv8115-o_O-Content_1xn1r0f-o_O-c0f2346_4s8r2l-o_O-text_7y41qf-o_O-item_9xo99e\">King of Avalon: Dominion</p><p class=\"n_1jv8115-o_O-Small_7u8o3i-o_O-c8790a2_1bcd4jz-o_O-item_9xo99e\">Century Games Limited</p></div>, <div class=\"textContainer_ssmtv3\"><p class=\"n_1jv8115-o_O-Content_1xn1r0f-o_O-c0f2346_4s8r2l-o_O-text_7y41qf-o_O-item_9xo99e\">Star Wars™: Galaxy of Heroes</p><p class=\"n_1jv8115-o_O-Small_7u8o3i-o_O-c8790a2_1bcd4jz-o_O-item_9xo99e\">ELECTRONIC ARTS</p></div>]\n"
     ]
    }
   ],
   "source": [
    "http = urllib3.PoolManager()\n",
    "response = http.request('GET',\n",
    "                            'https://www.appannie.com/en/apps/google-play/top/')\n",
    "soup = BeautifulSoup(response.data)\n",
    "table = soup.find_all('div', attrs={'class': 'textContainer_ssmtv3'})\n",
    "print(table)"
   ],
   "metadata": {
    "collapsed": false,
    "pycharm": {
     "name": "#%%\n"
    }
   }
  },
  {
   "cell_type": "markdown",
   "source": [
    "###### Cleaning the data\n",
    "The data that is scrapped from the web, there are three tables on the web page. Table for paid, grossing and free.\n",
    "The data is stripped down, and tidied up to only find the table with the applications names, ranking and type.\n",
    "Additionally tiding up/"
   ],
   "metadata": {
    "collapsed": false,
    "pycharm": {
     "name": "#%% md\n"
    }
   }
  },
  {
   "cell_type": "code",
   "execution_count": 91,
   "outputs": [
    {
     "data": {
      "text/plain": "   ranking                                           name  type\n0        1  GasBuddy: Find and Pay for Cheap Gas and Fuel  free\n1        2                   Crypto.com - Buy Bitcoin Now  free\n2        3   Coinbase – Buy & Sell Bitcoin. Crypto Wallet  free\n3        4                                  Slice It All!  free\n4        5                                 Catwalk Beauty  free",
      "text/html": "<div>\n<style scoped>\n    .dataframe tbody tr th:only-of-type {\n        vertical-align: middle;\n    }\n\n    .dataframe tbody tr th {\n        vertical-align: top;\n    }\n\n    .dataframe thead th {\n        text-align: right;\n    }\n</style>\n<table border=\"1\" class=\"dataframe\">\n  <thead>\n    <tr style=\"text-align: right;\">\n      <th></th>\n      <th>ranking</th>\n      <th>name</th>\n      <th>type</th>\n    </tr>\n  </thead>\n  <tbody>\n    <tr>\n      <th>0</th>\n      <td>1</td>\n      <td>GasBuddy: Find and Pay for Cheap Gas and Fuel</td>\n      <td>free</td>\n    </tr>\n    <tr>\n      <th>1</th>\n      <td>2</td>\n      <td>Crypto.com - Buy Bitcoin Now</td>\n      <td>free</td>\n    </tr>\n    <tr>\n      <th>2</th>\n      <td>3</td>\n      <td>Coinbase – Buy &amp; Sell Bitcoin. Crypto Wallet</td>\n      <td>free</td>\n    </tr>\n    <tr>\n      <th>3</th>\n      <td>4</td>\n      <td>Slice It All!</td>\n      <td>free</td>\n    </tr>\n    <tr>\n      <th>4</th>\n      <td>5</td>\n      <td>Catwalk Beauty</td>\n      <td>free</td>\n    </tr>\n  </tbody>\n</table>\n</div>"
     },
     "execution_count": 91,
     "metadata": {},
     "output_type": "execute_result"
    }
   ],
   "source": [
    "rank=1\n",
    "ranked = []\n",
    "track = 0\n",
    "for rows in table:\n",
    "    appname = rows.find('p', attrs={'class': 'n_1jv8115-o_O-Content_1xn1r0f-o_O-c0f2346_4s8r2l-o_O-text_7y41qf-o_O-item_9xo99e'}).get_text().strip()\n",
    "    appname\n",
    "    if track < 50:\n",
    "        type = 'free'\n",
    "    elif track < 100:\n",
    "        type = 'paid'\n",
    "    else:\n",
    "        type = 'grossing'\n",
    "\n",
    "    ranked.append([rank, appname, type])\n",
    "    if rank ==50 or rank == 100:\n",
    "        rank = 0\n",
    "    rank += 1\n",
    "    track += 1\n",
    "\n",
    "rankeddf = pd.DataFrame(ranked, columns=[\"ranking\", \"name\", \"type\"])\n",
    "rankeddf.dropna(inplace=True)\n",
    "rankeddf.head()"
   ],
   "metadata": {
    "collapsed": false,
    "pycharm": {
     "name": "#%%\n"
    }
   }
  },
  {
   "cell_type": "code",
   "execution_count": 91,
   "outputs": [],
   "source": [],
   "metadata": {
    "collapsed": false,
    "pycharm": {
     "name": "#%%"
    }
   }
  }
 ],
 "metadata": {
  "kernelspec": {
   "display_name": "Python 3",
   "language": "python",
   "name": "python3"
  },
  "language_info": {
   "codemirror_mode": {
    "name": "ipython",
    "version": 2
   },
   "file_extension": ".py",
   "mimetype": "text/x-python",
   "name": "python",
   "nbconvert_exporter": "python",
   "pygments_lexer": "ipython2",
   "version": "2.7.6"
  }
 },
 "nbformat": 4,
 "nbformat_minor": 0
}